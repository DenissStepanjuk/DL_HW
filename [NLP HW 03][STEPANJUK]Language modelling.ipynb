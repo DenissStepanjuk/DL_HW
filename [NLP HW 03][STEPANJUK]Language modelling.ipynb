{
 "cells": [
  {
   "cell_type": "markdown",
   "metadata": {
    "id": "d0ADTojbpfLt"
   },
   "source": [
    "<p style=\"align: center;\"><img src=\"https://static.tildacdn.com/tild6636-3531-4239-b465-376364646465/Deep_Learning_School.png\" width=\"400\"></p>\n",
    "\n",
    "# Домашнее задание. Обучение языковой модели с помощью LSTM (10 баллов)"
   ]
  },
  {
   "cell_type": "markdown",
   "metadata": {
    "id": "ldHSmYY6p_mZ"
   },
   "source": [
    "Э\n",
    "В этом задании Вам предстоит обучить языковую модель с помощью рекуррентной нейронной сети. В отличие от семинарского занятия, Вам необходимо будет работать с отдельными словами, а не буквами.\n",
    "\n",
    "\n",
    "Установим модуль ```datasets```, чтобы нам проще было работать с данными."
   ]
  },
  {
   "cell_type": "code",
   "execution_count": null,
   "metadata": {
    "id": "3yvNdv6cp_0P"
   },
   "outputs": [],
   "source": [
    "#!pip install datasets"
   ]
  },
  {
   "cell_type": "markdown",
   "metadata": {
    "id": "rh9ZXSeCpng9"
   },
   "source": [
    "Импорт необходимых библиотек"
   ]
  },
  {
   "cell_type": "code",
   "execution_count": 1,
   "metadata": {
    "id": "XOJi16bLpd_O"
   },
   "outputs": [],
   "source": [
    "import torch\n",
    "import torch.nn as nn\n",
    "from torch.utils.data import Dataset, DataLoader\n",
    "\n",
    "import numpy as np\n",
    "import matplotlib.pyplot as plt\n",
    "\n",
    "from tqdm.auto import tqdm\n",
    "from datasets import load_dataset\n",
    "from nltk.tokenize import sent_tokenize, word_tokenize\n",
    "from sklearn.model_selection import train_test_split\n",
    "import nltk\n",
    "\n",
    "from collections import Counter\n",
    "from typing import List\n",
    "\n",
    "import seaborn\n",
    "seaborn.set(palette='summer')"
   ]
  },
  {
   "cell_type": "code",
   "execution_count": 2,
   "metadata": {
    "id": "91JuM0SQvXud"
   },
   "outputs": [
    {
     "name": "stderr",
     "output_type": "stream",
     "text": [
      "[nltk_data] Downloading package punkt to\n",
      "[nltk_data]     C:\\Users\\STEPANJUK\\AppData\\Roaming\\nltk_data...\n",
      "[nltk_data]   Package punkt is already up-to-date!\n"
     ]
    },
    {
     "data": {
      "text/plain": [
       "True"
      ]
     },
     "execution_count": 2,
     "metadata": {},
     "output_type": "execute_result"
    }
   ],
   "source": [
    "nltk.download('punkt')"
   ]
  },
  {
   "cell_type": "code",
   "execution_count": 3,
   "metadata": {
    "id": "adJC8ShFq9HM"
   },
   "outputs": [
    {
     "data": {
      "text/plain": [
       "'cuda'"
      ]
     },
     "execution_count": 3,
     "metadata": {},
     "output_type": "execute_result"
    }
   ],
   "source": [
    "device = 'cuda' if torch.cuda.is_available() else 'cpu'\n",
    "device"
   ]
  },
  {
   "cell_type": "markdown",
   "metadata": {
    "id": "pwsfS1ENq5ig"
   },
   "source": [
    "## Подготовка данных\n",
    "\n",
    "Воспользуемся датасетом imdb. В нем хранятся отзывы о фильмах с сайта imdb. Загрузим данные с помощью функции ```load_dataset```"
   ]
  },
  {
   "cell_type": "code",
   "execution_count": 4,
   "metadata": {
    "id": "qHLNWOfJqSfc"
   },
   "outputs": [],
   "source": [
    "# Загрузим датасет\n",
    "dataset = load_dataset('imdb')"
   ]
  },
  {
   "cell_type": "markdown",
   "metadata": {
    "id": "24gn7CuZ9agP"
   },
   "source": [
    "### Препроцессинг данных и создание словаря (1 балл)\n",
    "\n",
    "Далее вам необходмо самостоятельно произвести препроцессинг данных и получить словарь или же просто ```set``` строк. Что необходимо сделать:\n",
    "\n",
    "1. Разделить отдельные тренировочные примеры на отдельные предложения с помощью функции ```sent_tokenize``` из бибилиотеки ```nltk```. Каждое отдельное предложение будет одним тренировочным примером.\n",
    "2. Оставить только те предложения, в которых меньше ```word_threshold``` слов.\n",
    "3. Посчитать частоту вхождения каждого слова в оставшихся предложениях. Для деления предлоения на отдельные слова удобно использовать функцию ```word_tokenize```.\n",
    "4. Создать объект ```vocab``` класса ```set```, положить в него служебные токены '\\<unk\\>', '\\<bos\\>', '\\<eos\\>', '\\<pad\\>' и vocab_size самых частовстречающихся слов.   "
   ]
  },
  {
   "cell_type": "code",
   "execution_count": 5,
   "metadata": {
    "id": "Ins2tVCdsS47"
   },
   "outputs": [
    {
     "data": {
      "application/vnd.jupyter.widget-view+json": {
       "model_id": "0cb01fe02cbd49c5991d7f5abb7be8b2",
       "version_major": 2,
       "version_minor": 0
      },
      "text/plain": [
       "  0%|          | 0/25000 [00:00<?, ?it/s]"
      ]
     },
     "metadata": {},
     "output_type": "display_data"
    }
   ],
   "source": [
    "# Список всех предложений из тренировочного датасета.\n",
    "sentences = []\n",
    "# Ограничение по длинне предложения.\n",
    "word_threshold = 32\n",
    "\n",
    "# Получить отдельные предложения и поместить их в sentences\n",
    "for sentence in tqdm(dataset['test']['text']):\n",
    "    sentences.extend(\n",
    "        # Функция sent_tokenize используется для разбиения текста на отдельные предложения.\n",
    "        # Функция word_tokenize используется для разбиения текста на отдельные слова и знаки препинания.\n",
    "        [x.lower() for x in sent_tokenize(sentence, language='english') if len(word_tokenize(x)) < word_threshold])"
   ]
  },
  {
   "cell_type": "code",
   "execution_count": 6,
   "metadata": {
    "id": "bxeBxP3J1Rj3"
   },
   "outputs": [
    {
     "name": "stdout",
     "output_type": "stream",
     "text": [
      "Всего предложений: 195564\n"
     ]
    }
   ],
   "source": [
    "print(\"Всего предложений:\", len(sentences))"
   ]
  },
  {
   "cell_type": "markdown",
   "metadata": {
    "id": "iT82XkT6ULA_"
   },
   "source": [
    "Посчитаем для каждого слова его встречаемость."
   ]
  },
  {
   "cell_type": "code",
   "execution_count": 7,
   "metadata": {
    "id": "nEvCN0Y1w1yH"
   },
   "outputs": [
    {
     "data": {
      "application/vnd.jupyter.widget-view+json": {
       "model_id": "87bd93dbc93042a9a3bcdfa638141f26",
       "version_major": 2,
       "version_minor": 0
      },
      "text/plain": [
       "  0%|          | 0/195564 [00:00<?, ?it/s]"
      ]
     },
     "metadata": {},
     "output_type": "display_data"
    }
   ],
   "source": [
    "words = Counter()\n",
    "\n",
    "# Расчет встречаемости слов\n",
    "for sentence in tqdm(sentences):\n",
    "    for w in word_tokenize(sentence):\n",
    "        words[w] += 1"
   ]
  },
  {
   "cell_type": "code",
   "execution_count": 8,
   "metadata": {},
   "outputs": [
    {
     "name": "stdout",
     "output_type": "stream",
     "text": [
      "Amount of words:  67183\n",
      "Top: [('.', 167041), ('the', 150255), (',', 111356), ('a', 74215), ('and', 71704)]\n",
      "Bottom: [('stress-related', 1), ('nose-bleed', 1), ('b-list', 1), ('whorish', 1)]\n"
     ]
    }
   ],
   "source": [
    "# Выведим кол-во слов в датасете.\n",
    "len_words = len(words)\n",
    "print(\"Amount of words: \", len_words)\n",
    "\n",
    "# Преобразуем Counter() в список.\n",
    "words = list(words.items())\n",
    "# Отсортируем список слов в датасете по частоте вхождения в датасет.\n",
    "words = sorted(words, key=lambda x: x[1], reverse=True)\n",
    "\n",
    "# Выведим первые 5 слов и их частоту вхождения в датасет.\n",
    "print(\"Top:\", words[0 : 5])\n",
    "# Выведим последние 5 слов и их частоту вхождения в датасет.\n",
    "print(\"Bottom:\", words[len_words-5 : -1])"
   ]
  },
  {
   "cell_type": "markdown",
   "metadata": {
    "id": "B4k4uSoHUSI0"
   },
   "source": [
    "Добавим в словарь ```vocab_size``` самых встречающихся слов."
   ]
  },
  {
   "cell_type": "code",
   "execution_count": 9,
   "metadata": {
    "id": "oUBNwsK9xLIu"
   },
   "outputs": [],
   "source": [
    "# Cловарь\n",
    "vocab = set(['<unk>', '<bos>', '<eos>', '<pad>'])\n",
    "# Размер словаря\n",
    "vocab_size = 40000\n",
    "\n",
    "# Наполнение словаря\n",
    "for w, cnt in words:\n",
    "    vocab.add(w)\n",
    "    # Если словарь полон, то выходим из цикла.\n",
    "    if  len(vocab) >= vocab_size + 4:\n",
    "        break"
   ]
  },
  {
   "cell_type": "code",
   "execution_count": 10,
   "metadata": {
    "id": "ieT0DFUpXnV2"
   },
   "outputs": [],
   "source": [
    "# assert - Проверка условий, если условие ложно, assert вызывает ошибку AssertionError и прерывает выполнение кода.\n",
    "assert '<unk>' in vocab\n",
    "assert '<bos>' in vocab\n",
    "assert '<eos>' in vocab\n",
    "assert '<pad>' in vocab\n",
    "assert len(vocab) == vocab_size + 4"
   ]
  },
  {
   "cell_type": "code",
   "execution_count": 11,
   "metadata": {
    "id": "JhACW2CQyck5"
   },
   "outputs": [
    {
     "name": "stdout",
     "output_type": "stream",
     "text": [
      "Всего слов в словаре: 40004\n"
     ]
    }
   ],
   "source": [
    "print(\"Всего слов в словаре:\", len(vocab))"
   ]
  },
  {
   "cell_type": "markdown",
   "metadata": {
    "id": "UmeRYKSIUcdE"
   },
   "source": [
    "### Подготовка датасета (1 балл)\n",
    "\n",
    "Далее, как и в семинарском занятии, подготовим датасеты и даталоадеры.\n",
    "\n",
    "В классе ```WordDataset``` вам необходимо реализовать метод ```__getitem__```, который будет возвращать сэмпл данных по входному idx, то есть список целых чисел (индексов слов).\n",
    "\n",
    "Внутри этого метода необходимо добавить служебные токены начала и конца последовательности, а также токенизировать соответствующее предложение с помощью ```word_tokenize``` и сопоставить ему индексы из ```word2ind```."
   ]
  },
  {
   "cell_type": "code",
   "execution_count": 12,
   "metadata": {
    "id": "iD7SmSy3v2dl"
   },
   "outputs": [],
   "source": [
    "word2ind = {char: i for i, char in enumerate(vocab)}\n",
    "ind2word = {i: char for char, i in word2ind.items()}"
   ]
  },
  {
   "cell_type": "code",
   "execution_count": 13,
   "metadata": {
    "id": "FVzXL17PzC7K"
   },
   "outputs": [],
   "source": [
    "class WordDataset:\n",
    "    def __init__(self, sentences):\n",
    "        # Список предложений из тренировочного датасета.\n",
    "        self.data = sentences\n",
    "        #'<unk>'- неизвестные слова \n",
    "        self.unk_id = word2ind['<unk>']\n",
    "        #'<bos>' - начало последовательности\n",
    "        self.bos_id = word2ind['<bos>']\n",
    "        #'<eos>' - конец последовательности\n",
    "        self.eos_id = word2ind['<eos>']\n",
    "        #'<pad>' - для обьеденения последовательностей\n",
    "        self.pad_id = word2ind['<pad>']\n",
    "\n",
    "    # Преобразуем предложение из датасета состоящие из слов в список индексов из словаря.\n",
    "    def __getitem__(self, idx: int) -> List[int]:\n",
    "        # Добавляем ID токена '<bos>' - начало последовательности\n",
    "        tokenized_sentence = [self.bos_id]\n",
    "        # Для каждого слова из предложения добавляем его ID из словаря в последовательность.\n",
    "        # Для неизвестных слов добавляем ID токена '<unk>'- неизвестные слова \n",
    "        #tokenized_sentence += [word2ind.get(word, self.unk_id) for word in self.data[idx]]\n",
    "        tokenized_sentence += [word2ind.get(word, self.unk_id) for word in word_tokenize(self.data[idx])]\n",
    "        # Добавляем ID токена '<eos>' - конец последовательности\n",
    "        tokenized_sentence += [self.eos_id]\n",
    "\n",
    "        return tokenized_sentence\n",
    "\n",
    "    def __len__(self) -> int:\n",
    "        return len(self.data)"
   ]
  },
  {
   "cell_type": "code",
   "execution_count": 14,
   "metadata": {
    "id": "I6CtYNMp2_g0"
   },
   "outputs": [],
   "source": [
    "# Собираем последовательности(предложения) разных длин в один бач.\n",
    "# Функция принимает на вход батч из датадлоадера и токен для обьеденения последовательностей  и заполнения пустоты.\n",
    "def collate_fn_with_padding(input_batch: List[List[int]], pad_id=word2ind['<pad>']) -> torch.Tensor:\n",
    "\n",
    "    # Длинны всех последовательностей(предложений) в баче.\n",
    "    seq_lens = [len(x) for x in input_batch]\n",
    "    # Максимальная длинна последовательности.\n",
    "    max_seq_len = max(seq_lens)\n",
    "\n",
    "    # Формирируем новый батч последовательностей.\n",
    "    new_batch = []\n",
    "    # Проходи через каждое предложение в батче.\n",
    "    for sequence in input_batch:\n",
    "        # Добавить pad_id для заполнения пустоты чтобы все последовательности были одной длинны. \n",
    "        for _ in range(max_seq_len - len(sequence)):\n",
    "            sequence.append(pad_id)\n",
    "        # Добавляем к новому батчу последовательность приведённую к нужной длинне с pad_id по краям.\n",
    "        new_batch.append(sequence)\n",
    "\n",
    "    # Конвертируем последовательность в тензор и загружаем на девайс.\n",
    "    sequences = torch.LongTensor(new_batch).to(device)\n",
    "\n",
    "    \n",
    "    new_batch = {\n",
    "        # Последовательность токенов от первого до предпоследнего.\n",
    "        'input_ids': sequences[:,:-1],\n",
    "        # Последовательность токенов от второго до последнего.\n",
    "        'target_ids': sequences[:,1:]\n",
    "    }\n",
    "\n",
    "    return new_batch"
   ]
  },
  {
   "cell_type": "code",
   "execution_count": 15,
   "metadata": {
    "id": "6xmeK9Ys1BIG"
   },
   "outputs": [],
   "source": [
    "train_sentences, eval_sentences = train_test_split(sentences, test_size=0.2)\n",
    "eval_sentences, test_sentences = train_test_split(eval_sentences, test_size=0.5)\n",
    "\n",
    "train_dataset = WordDataset(train_sentences)\n",
    "eval_dataset = WordDataset(eval_sentences)\n",
    "test_dataset = WordDataset(test_sentences)\n",
    "\n",
    "batch_size = 32\n",
    "\n",
    "train_dataloader = DataLoader(\n",
    "    train_dataset, collate_fn=collate_fn_with_padding, batch_size=batch_size)\n",
    "\n",
    "eval_dataloader = DataLoader(\n",
    "    eval_dataset, collate_fn=collate_fn_with_padding, batch_size=batch_size)\n",
    "\n",
    "test_dataloader = DataLoader(\n",
    "    test_dataset, collate_fn=collate_fn_with_padding, batch_size=batch_size)"
   ]
  },
  {
   "cell_type": "markdown",
   "metadata": {
    "id": "SMAexY7Y45E4"
   },
   "source": [
    "## Обучение и архитектура модели\n",
    "\n",
    "Вам необходимо на практике проверить, что влияет на качество языковых моделей. В этом задании нужно провести серию экспериментов с различными вариантами языковых моделей и сравнить различия в конечной перплексии на тестовом множестве.\n",
    "\n",
    "Возмоэные идеи для экспериментов:\n",
    "\n",
    "* Различные RNN-блоки, например, LSTM или GRU. Также можно добавить сразу несколько RNN блоков друг над другом с помощью аргумента num_layers. Вам поможет официальная документация [здесь](https://pytorch.org/docs/stable/generated/torch.nn.LSTM.html)\n",
    "* Различные размеры скрытого состояния. Различное количество линейных слоев после RNN-блока. Различные функции активации.\n",
    "* Добавление нормализаций в виде Dropout, BatchNorm или LayerNorm\n",
    "* Различные аргументы для оптимизации, например, подбор оптимального learning rate или тип алгоритма оптимизации SGD, Adam, RMSProp и другие\n",
    "* Любые другие идеи и подходы\n",
    "\n",
    "После проведения экспериментов необходимо составить таблицу результатов, в которой описан каждый эксперимент и посчитана перплексия на тестовом множестве.\n",
    "\n",
    "Учтите, что эксперименты, которые различаются, например, только размером скрытого состояния или количеством линейных слоев считаются, как один эксперимент.\n",
    "\n",
    "Успехов!"
   ]
  },
  {
   "cell_type": "markdown",
   "metadata": {
    "id": "KP1cO-3bmDv9"
   },
   "source": [
    "### Функция evaluate (1 балл)\n",
    "\n",
    "Заполните функцию ```evaluate```"
   ]
  },
  {
   "cell_type": "code",
   "execution_count": 16,
   "metadata": {
    "id": "XUlMUVJ3mL4r"
   },
   "outputs": [],
   "source": [
    "# Расчёт перплексии\n",
    "def evaluate(model, criterion, dataloader) -> float:\n",
    "    # Переводим модель в режим для оценки предсказаний\n",
    "    model.eval()\n",
    "    # Список для перплексии с каждого бача.\n",
    "    perplexity = []\n",
    "    # Без расчёта производных.\n",
    "    with torch.no_grad():\n",
    "        # Пройти через все батчи.\n",
    "        for batch in tqdm(dataloader, desc=f'Validation:'):\n",
    "        #for batch in dataloader:\n",
    "            # Посчитать логиты предсказаний следующих слов\n",
    "            logits = model(batch['input_ids'].to(device)).flatten(start_dim=0, end_dim=1)\n",
    "            # Расчитать функцию потерь \"CrossEntropyLoss\" - логарифм от предсказанной вероятности для нужного слова.\n",
    "            loss = criterion(logits, batch['target_ids'].to(device).flatten())\n",
    "            # Добавить в списиок перплексии экспоненты от логарифмов предсказанных вероятностей нужных слов.\n",
    "            perplexity.append(torch.exp(loss).item())\n",
    "\n",
    "    # Перплексия равна среднеарифметическому значению от всех экспонент.\n",
    "    perplexity = sum(perplexity) / len(perplexity)\n",
    "\n",
    "    return perplexity"
   ]
  },
  {
   "cell_type": "markdown",
   "metadata": {
    "id": "bLV63Vsk7loy"
   },
   "source": [
    "### Train loop (1 балл)\n",
    "\n",
    "Напишите функцию для обучения модели."
   ]
  },
  {
   "cell_type": "code",
   "execution_count": 17,
   "metadata": {
    "id": "bSZmUC3YmocP"
   },
   "outputs": [],
   "source": [
    "def train_model(\n",
    "        model: nn.Module,         # Модель\n",
    "        criterion: nn.Module,     # Функция потерь\n",
    "        optimizer: torch.optim.Optimizer, # оптимизатор \n",
    "        num_epochs: int,          # Кол-во эпох\n",
    "        train_loader: DataLoader, # Тренировочные данные\n",
    "        val_loader: DataLoader    # Валидационные данные\n",
    "        ) -> [List[float], List[float]]:\n",
    "    \n",
    "    # Список CrossEntropyLoss для всех эпох\n",
    "    losses = []\n",
    "    # Список перплексии для всех эпох\n",
    "    perplexities = []\n",
    "\n",
    "    # Пройдём по всем эпохам.\n",
    "    for epoch in range(num_epochs):\n",
    "        # Список CrossEntropyLoss для текущей эпохи\n",
    "        epoch_losses = []\n",
    "        # Переводим модель в режим для обучения\n",
    "        model.train()\n",
    "        # Пройдём по всем бачам в даталоадере.\n",
    "        for batch in tqdm(train_dataloader, desc=f'Training epoch {epoch}:'):\n",
    "            # Обнулим производные.\n",
    "            optimizer.zero_grad()\n",
    "            \n",
    "            # Посчитать логиты предсказаний следующих слов\n",
    "            #logits = model(batch['input_ids']).flatten(start_dim=0, end_dim=1)\n",
    "            logits = model(batch['input_ids'].to(device)).flatten(start_dim=0, end_dim=1)\n",
    "            # Расчитать функцию потерь \"CrossEntropyLoss\"\n",
    "            loss = criterion(logits, batch['target_ids'].to(device).flatten())\n",
    "            # Расчитать производные\n",
    "            loss.backward()\n",
    "            # Сделать шаг обучения\n",
    "            optimizer.step()\n",
    "            # Сохранить значения функции потерь \"CrossEntropyLoss\"  для текущей эпохи.\n",
    "            #epoch_losses.append(loss.item())\n",
    "            epoch_losses.append(loss.detach().cpu().numpy())\n",
    "\n",
    "        # Сохранить значения функции потерь \"CrossEntropyLoss\"\n",
    "        losses.append(sum(epoch_losses) / len(epoch_losses))\n",
    "        # Расчитать и сохранить перплексию\n",
    "        perplexities.append(evaluate(model, criterion, val_loader))\n",
    "\n",
    "    return losses, perplexities"
   ]
  },
  {
   "cell_type": "markdown",
   "metadata": {},
   "source": [
    "## Generation"
   ]
  },
  {
   "cell_type": "code",
   "execution_count": 37,
   "metadata": {},
   "outputs": [],
   "source": [
    "def generate_sequence(model, starting_seq: str, max_seq_len: int = 128) -> str:\n",
    "    device = 'cpu'\n",
    "    model = model.to(device)\n",
    "    input_ids = [word2ind['<bos>']] + [word2ind.get(char, word2ind['<unk>']) for char in word_tokenize(starting_seq)]\n",
    "    input_ids = torch.LongTensor(input_ids).to(device)\n",
    "    \n",
    "    model.eval()\n",
    "    with torch.no_grad():\n",
    "        for i in range(max_seq_len):\n",
    "            next_char_distribution = model(input_ids)[-1]\n",
    "            next_char = next_char_distribution.squeeze().argmax()\n",
    "            input_ids = torch.cat([input_ids, next_char.unsqueeze(0)])\n",
    "\n",
    "            if next_char.item() == word2ind['<eos>']:\n",
    "                break\n",
    "    \n",
    "    words = ' '.join([ind2word[idx.item()] for idx in input_ids])\n",
    "\n",
    "    return words"
   ]
  },
  {
   "cell_type": "markdown",
   "metadata": {
    "id": "hXmeyhBQmuq4"
   },
   "source": [
    "### Первый эксперимент (2 балла)\n",
    "\n",
    "Определите архитектуру модели и обучите её."
   ]
  },
  {
   "cell_type": "code",
   "execution_count": 19,
   "metadata": {
    "id": "qaWvqNJom0ij"
   },
   "outputs": [],
   "source": [
    "class LanguageModel(nn.Module):\n",
    "    def __init__(self, hidden_dim: int, vocab_size: int):\n",
    "        super().__init__()\n",
    "        self.embedding = nn.Embedding(vocab_size, hidden_dim)\n",
    "        self.rnn = nn.GRU(hidden_dim, hidden_dim, batch_first=True)\n",
    "        self.linear = nn.Linear(hidden_dim, hidden_dim)\n",
    "        self.projection = nn.Linear(hidden_dim, vocab_size)\n",
    "\n",
    "        self.non_lin = nn.Tanh()\n",
    "        self.dropout = nn.Dropout(p=0.1)\n",
    "\n",
    "    def forward(self, input_batch: torch.Tensor) -> torch.Tensor:\n",
    "        embeddings = self.embedding(input_batch)  # [batch_size, seq_len, hidden_dim]\n",
    "        output, _ = self.rnn(embeddings)  # [batch_size, seq_len, hidden_dim]\n",
    "        output = self.dropout(self.linear(self.non_lin(output)))  # [batch_size, seq_len, hidden_dim]\n",
    "        projection = self.projection(self.non_lin(output))  # [batch_size, seq_len, vocab_size]\n",
    "\n",
    "        return projection"
   ]
  },
  {
   "cell_type": "code",
   "execution_count": 20,
   "metadata": {
    "id": "TxbEzn5fnBOY"
   },
   "outputs": [],
   "source": [
    "model = LanguageModel(hidden_dim=256, vocab_size=len(vocab)).to(device)\n",
    "criterion = nn.CrossEntropyLoss(ignore_index=word2ind['<pad>'])\n",
    "optimizer = torch.optim.Adam(model.parameters())"
   ]
  },
  {
   "cell_type": "code",
   "execution_count": 21,
   "metadata": {},
   "outputs": [
    {
     "data": {
      "application/vnd.jupyter.widget-view+json": {
       "model_id": "1d47c85419424502895a746243dc7f34",
       "version_major": 2,
       "version_minor": 0
      },
      "text/plain": [
       "Training epoch 0::   0%|          | 0/4890 [00:00<?, ?it/s]"
      ]
     },
     "metadata": {},
     "output_type": "display_data"
    },
    {
     "data": {
      "application/vnd.jupyter.widget-view+json": {
       "model_id": "27da637f114141c299a8d99fa404b4ee",
       "version_major": 2,
       "version_minor": 0
      },
      "text/plain": [
       "Validation::   0%|          | 0/612 [00:00<?, ?it/s]"
      ]
     },
     "metadata": {},
     "output_type": "display_data"
    },
    {
     "data": {
      "application/vnd.jupyter.widget-view+json": {
       "model_id": "aebfc072eaa448b981313f18fac22c1a",
       "version_major": 2,
       "version_minor": 0
      },
      "text/plain": [
       "Training epoch 1::   0%|          | 0/4890 [00:00<?, ?it/s]"
      ]
     },
     "metadata": {},
     "output_type": "display_data"
    },
    {
     "data": {
      "application/vnd.jupyter.widget-view+json": {
       "model_id": "9ee287d8dc944154977c465b6957ba70",
       "version_major": 2,
       "version_minor": 0
      },
      "text/plain": [
       "Validation::   0%|          | 0/612 [00:00<?, ?it/s]"
      ]
     },
     "metadata": {},
     "output_type": "display_data"
    },
    {
     "data": {
      "application/vnd.jupyter.widget-view+json": {
       "model_id": "bf83c61054fe496d8ced0a8a483ec665",
       "version_major": 2,
       "version_minor": 0
      },
      "text/plain": [
       "Training epoch 2::   0%|          | 0/4890 [00:00<?, ?it/s]"
      ]
     },
     "metadata": {},
     "output_type": "display_data"
    },
    {
     "data": {
      "application/vnd.jupyter.widget-view+json": {
       "model_id": "13b87c3f87954ef68e6476772620cbf9",
       "version_major": 2,
       "version_minor": 0
      },
      "text/plain": [
       "Validation::   0%|          | 0/612 [00:00<?, ?it/s]"
      ]
     },
     "metadata": {},
     "output_type": "display_data"
    },
    {
     "data": {
      "application/vnd.jupyter.widget-view+json": {
       "model_id": "918c4f0ef9984adfb886f09a04cf4e22",
       "version_major": 2,
       "version_minor": 0
      },
      "text/plain": [
       "Training epoch 3::   0%|          | 0/4890 [00:00<?, ?it/s]"
      ]
     },
     "metadata": {},
     "output_type": "display_data"
    },
    {
     "data": {
      "application/vnd.jupyter.widget-view+json": {
       "model_id": "5b3f288c12814f98a26b015b513e7bdb",
       "version_major": 2,
       "version_minor": 0
      },
      "text/plain": [
       "Validation::   0%|          | 0/612 [00:00<?, ?it/s]"
      ]
     },
     "metadata": {},
     "output_type": "display_data"
    },
    {
     "data": {
      "application/vnd.jupyter.widget-view+json": {
       "model_id": "3fc1b0b7f1a74c9bbe1e14142a18ce5e",
       "version_major": 2,
       "version_minor": 0
      },
      "text/plain": [
       "Training epoch 4::   0%|          | 0/4890 [00:00<?, ?it/s]"
      ]
     },
     "metadata": {},
     "output_type": "display_data"
    },
    {
     "data": {
      "application/vnd.jupyter.widget-view+json": {
       "model_id": "a8a08342699c4fa0a45ea6c9734a258a",
       "version_major": 2,
       "version_minor": 0
      },
      "text/plain": [
       "Validation::   0%|          | 0/612 [00:00<?, ?it/s]"
      ]
     },
     "metadata": {},
     "output_type": "display_data"
    }
   ],
   "source": [
    "history = train_model(\n",
    "        model=model,         # Модель\n",
    "        criterion=criterion,     # Функция потерь\n",
    "        optimizer=optimizer, # оптимизатор \n",
    "        num_epochs=5,          # Кол-во эпох\n",
    "        train_loader=train_dataloader, # Тренировочные данные\n",
    "        val_loader=eval_dataloader    # Валидационные данные\n",
    "        )"
   ]
  },
  {
   "cell_type": "code",
   "execution_count": 38,
   "metadata": {},
   "outputs": [
    {
     "data": {
      "text/plain": [
       "'<bos> it is a shame that it is a good movie . <eos>'"
      ]
     },
     "execution_count": 38,
     "metadata": {},
     "output_type": "execute_result"
    }
   ],
   "source": [
    "generate_sequence(model, starting_seq='it is')"
   ]
  },
  {
   "cell_type": "code",
   "execution_count": 23,
   "metadata": {},
   "outputs": [],
   "source": [
    "losses, perplexities = history"
   ]
  },
  {
   "cell_type": "code",
   "execution_count": 24,
   "metadata": {},
   "outputs": [
    {
     "data": {
      "image/png": "[encoded data removed]",
      "text/plain": [
       "<Figure size 640x480 with 1 Axes>"
      ]
     },
     "metadata": {},
     "output_type": "display_data"
    }
   ],
   "source": [
    "plt.plot(np.arange(len(losses)), losses)\n",
    "plt.title('Losses')\n",
    "plt.xlabel(\"epoch\")\n",
    "plt.show()"
   ]
  },
  {
   "cell_type": "code",
   "execution_count": 25,
   "metadata": {},
   "outputs": [
    {
     "data": {
      "image/png": "[encoded data removed]",
      "text/plain": [
       "<Figure size 640x480 with 1 Axes>"
      ]
     },
     "metadata": {},
     "output_type": "display_data"
    }
   ],
   "source": [
    "plt.plot(np.arange(len(perplexities)), perplexities)\n",
    "plt.title('Perplexity')\n",
    "plt.xlabel(\"epoch\")\n",
    "plt.show()"
   ]
  },
  {
   "cell_type": "code",
   "execution_count": 26,
   "metadata": {},
   "outputs": [
    {
     "data": {
      "application/vnd.jupyter.widget-view+json": {
       "model_id": "5e3e3b77370c4429a45244157c02d459",
       "version_major": 2,
       "version_minor": 0
      },
      "text/plain": [
       "Validation::   0%|          | 0/612 [00:00<?, ?it/s]"
      ]
     },
     "metadata": {},
     "output_type": "display_data"
    },
    {
     "name": "stdout",
     "output_type": "stream",
     "text": [
      "117.36578109217625\n"
     ]
    }
   ],
   "source": [
    "perp = evaluate(model=model.to(device), criterion=criterion, dataloader=test_dataloader)\n",
    "print(perp)"
   ]
  },
  {
   "cell_type": "code",
   "execution_count": null,
   "metadata": {},
   "outputs": [],
   "source": [
    "torch.cuda.empty_cache()"
   ]
  },
  {
   "cell_type": "code",
   "execution_count": null,
   "metadata": {},
   "outputs": [],
   "source": [
    "!nvidia-smi"
   ]
  },
  {
   "cell_type": "markdown",
   "metadata": {
    "id": "X1EW4faIm0tl"
   },
   "source": [
    "### Второй эксперимент (2 балла)\n",
    "\n",
    "Попробуйте что-то поменять в модели или в пайплайне обучения, идеи для экспериментов можно подсмотреть выше."
   ]
  },
  {
   "cell_type": "code",
   "execution_count": 27,
   "metadata": {
    "id": "wkSE4jR1XzTg"
   },
   "outputs": [],
   "source": [
    "class LanguageModelLSTM(nn.Module):\n",
    "    def __init__(self, hidden_dim: int, vocab_size: int):\n",
    "        super().__init__()\n",
    "        self.embedding = nn.Embedding(vocab_size, hidden_dim)\n",
    "        self.rnn = nn.LSTM(hidden_dim, hidden_dim, batch_first=True)\n",
    "        self.linear = nn.Linear(hidden_dim, hidden_dim)\n",
    "        self.projection = nn.Linear(hidden_dim, vocab_size)\n",
    "\n",
    "        self.non_lin = nn.Tanh()\n",
    "        self.dropout = nn.Dropout(p=0.1)\n",
    "\n",
    "    def forward(self, input_batch: torch.Tensor) -> torch.Tensor:\n",
    "        embeddings = self.embedding(input_batch)  # [batch_size, seq_len, hidden_dim]\n",
    "        output, _ = self.rnn(embeddings)  # [batch_size, seq_len, hidden_dim]\n",
    "        output = self.dropout(self.linear(self.non_lin(output)))  # [batch_size, seq_len, hidden_dim]\n",
    "        projection = self.projection(self.non_lin(output))  # [batch_size, seq_len, vocab_size]\n",
    "\n",
    "        return projection"
   ]
  },
  {
   "cell_type": "code",
   "execution_count": 28,
   "metadata": {},
   "outputs": [],
   "source": [
    "modelLSTM = LanguageModelLSTM(hidden_dim=256, vocab_size=len(vocab)).to(device)\n",
    "criterionLSTM = nn.CrossEntropyLoss(ignore_index=word2ind['<pad>'])\n",
    "optimizerLSTM = torch.optim.Adam(modelLSTM.parameters())"
   ]
  },
  {
   "cell_type": "code",
   "execution_count": 29,
   "metadata": {},
   "outputs": [
    {
     "data": {
      "application/vnd.jupyter.widget-view+json": {
       "model_id": "a040225f3db94c2584ce430ecd46ba61",
       "version_major": 2,
       "version_minor": 0
      },
      "text/plain": [
       "Training epoch 0::   0%|          | 0/4890 [00:00<?, ?it/s]"
      ]
     },
     "metadata": {},
     "output_type": "display_data"
    },
    {
     "data": {
      "application/vnd.jupyter.widget-view+json": {
       "model_id": "a47f7d547aae403989d32f0936799f2b",
       "version_major": 2,
       "version_minor": 0
      },
      "text/plain": [
       "Validation::   0%|          | 0/612 [00:00<?, ?it/s]"
      ]
     },
     "metadata": {},
     "output_type": "display_data"
    },
    {
     "data": {
      "application/vnd.jupyter.widget-view+json": {
       "model_id": "b86c1ec4baeb43668f006a79b98ba562",
       "version_major": 2,
       "version_minor": 0
      },
      "text/plain": [
       "Training epoch 1::   0%|          | 0/4890 [00:00<?, ?it/s]"
      ]
     },
     "metadata": {},
     "output_type": "display_data"
    },
    {
     "data": {
      "application/vnd.jupyter.widget-view+json": {
       "model_id": "535ad02f9f20471185f5985bbe9c6a80",
       "version_major": 2,
       "version_minor": 0
      },
      "text/plain": [
       "Validation::   0%|          | 0/612 [00:00<?, ?it/s]"
      ]
     },
     "metadata": {},
     "output_type": "display_data"
    },
    {
     "data": {
      "application/vnd.jupyter.widget-view+json": {
       "model_id": "5aeab6d97fc74a30b921517ec7cc14bb",
       "version_major": 2,
       "version_minor": 0
      },
      "text/plain": [
       "Training epoch 2::   0%|          | 0/4890 [00:00<?, ?it/s]"
      ]
     },
     "metadata": {},
     "output_type": "display_data"
    },
    {
     "data": {
      "application/vnd.jupyter.widget-view+json": {
       "model_id": "6a2dae39a4f248178a9c0785fae8b06a",
       "version_major": 2,
       "version_minor": 0
      },
      "text/plain": [
       "Validation::   0%|          | 0/612 [00:00<?, ?it/s]"
      ]
     },
     "metadata": {},
     "output_type": "display_data"
    },
    {
     "data": {
      "application/vnd.jupyter.widget-view+json": {
       "model_id": "c148e941526841c989ffc056a4b0f8c8",
       "version_major": 2,
       "version_minor": 0
      },
      "text/plain": [
       "Training epoch 3::   0%|          | 0/4890 [00:00<?, ?it/s]"
      ]
     },
     "metadata": {},
     "output_type": "display_data"
    },
    {
     "data": {
      "application/vnd.jupyter.widget-view+json": {
       "model_id": "9e02ce59c3834bd9954b9d1b4b12ad58",
       "version_major": 2,
       "version_minor": 0
      },
      "text/plain": [
       "Validation::   0%|          | 0/612 [00:00<?, ?it/s]"
      ]
     },
     "metadata": {},
     "output_type": "display_data"
    },
    {
     "data": {
      "application/vnd.jupyter.widget-view+json": {
       "model_id": "5cd7b02fcf54437c9ad0324c812587a9",
       "version_major": 2,
       "version_minor": 0
      },
      "text/plain": [
       "Training epoch 4::   0%|          | 0/4890 [00:00<?, ?it/s]"
      ]
     },
     "metadata": {},
     "output_type": "display_data"
    },
    {
     "data": {
      "application/vnd.jupyter.widget-view+json": {
       "model_id": "31e40820ef7b4786804a7178aad65c0f",
       "version_major": 2,
       "version_minor": 0
      },
      "text/plain": [
       "Validation::   0%|          | 0/612 [00:00<?, ?it/s]"
      ]
     },
     "metadata": {},
     "output_type": "display_data"
    }
   ],
   "source": [
    "historyLSTM = train_model(\n",
    "                            model=modelLSTM,         # Модель\n",
    "                            criterion=criterionLSTM,     # Функция потерь\n",
    "                            optimizer=optimizerLSTM, # оптимизатор \n",
    "                            num_epochs=5,          # Кол-во эпох\n",
    "                            train_loader=train_dataloader, # Тренировочные данные\n",
    "                            val_loader=eval_dataloader    # Валидационные данные\n",
    "                            )"
   ]
  },
  {
   "cell_type": "code",
   "execution_count": 39,
   "metadata": {},
   "outputs": [
    {
     "data": {
      "text/plain": [
       "\"<bos> it is a very good movie , but it 's not . <eos>\""
      ]
     },
     "execution_count": 39,
     "metadata": {},
     "output_type": "execute_result"
    }
   ],
   "source": [
    "generate_sequence(modelLSTM, starting_seq='it is')"
   ]
  },
  {
   "cell_type": "code",
   "execution_count": 31,
   "metadata": {},
   "outputs": [],
   "source": [
    "lossesLSTM, perplexitiesLSTM = historyLSTM"
   ]
  },
  {
   "cell_type": "code",
   "execution_count": 32,
   "metadata": {},
   "outputs": [
    {
     "data": {
      "image/png": "[encoded data removed]",
      "text/plain": [
       "<Figure size 640x480 with 1 Axes>"
      ]
     },
     "metadata": {},
     "output_type": "display_data"
    }
   ],
   "source": [
    "plt.plot(np.arange(len(lossesLSTM)), lossesLSTM)\n",
    "plt.title('Losses')\n",
    "plt.xlabel(\"epoch\")\n",
    "plt.show()"
   ]
  },
  {
   "cell_type": "code",
   "execution_count": 33,
   "metadata": {},
   "outputs": [
    {
     "data": {
      "image/png": "[encoded data removed]",
      "text/plain": [
       "<Figure size 640x480 with 1 Axes>"
      ]
     },
     "metadata": {},
     "output_type": "display_data"
    }
   ],
   "source": [
    "plt.plot(np.arange(len(perplexitiesLSTM)), perplexitiesLSTM)\n",
    "plt.title('Perplexity')\n",
    "plt.xlabel(\"epoch\")\n",
    "plt.show()"
   ]
  },
  {
   "cell_type": "code",
   "execution_count": 34,
   "metadata": {},
   "outputs": [
    {
     "data": {
      "application/vnd.jupyter.widget-view+json": {
       "model_id": "593f7cc6073f4230bd85cbbb05b05f41",
       "version_major": 2,
       "version_minor": 0
      },
      "text/plain": [
       "Validation::   0%|          | 0/612 [00:00<?, ?it/s]"
      ]
     },
     "metadata": {},
     "output_type": "display_data"
    },
    {
     "name": "stdout",
     "output_type": "stream",
     "text": [
      "108.89416297588473\n"
     ]
    }
   ],
   "source": [
    "perpLSTM = evaluate(model=modelLSTM.to(device), criterion=criterion, dataloader=test_dataloader)\n",
    "print(perpLSTM)"
   ]
  },
  {
   "cell_type": "markdown",
   "metadata": {
    "id": "Y5V9H3eoFeAu"
   },
   "source": [
    "### Отчет (2 балла)\n",
    "\n",
    "Опишите проведенные эксперименты. Сравните перплексии полученных моделей. Предложите идеи по улучшению качества моделей."
   ]
  },
  {
   "cell_type": "markdown",
   "metadata": {
    "id": "M2GCDVeeF8LP"
   },
   "source": [
    "Было проведено 2 эксперимента, на одном наборе данных были обучены GRU и LSTM при прочих равных условиях.\n",
    "\n",
    "LSTM показала более низкое значении перплексии 108.89, чем GRU 117.36.\n",
    "\n",
    "Обе модели начали переобучаться начиная с 3-4 эпохи.\n",
    "\n",
    "Чтобы побороть проблему переобучения следует попробовать увеличить размерность скрытого слоя, увеличить кол-во рекуррентных слоёв, увеличить dropout и увеличить размер датасета, а также видимо механизм атеншн должен помочь побороть эту проблему."
   ]
  },
  {
   "cell_type": "code",
   "execution_count": null,
   "metadata": {},
   "outputs": [],
   "source": []
  }
 ],
 "metadata": {
  "accelerator": "GPU",
  "colab": {
   "provenance": []
  },
  "gpuClass": "standard",
  "kernelspec": {
   "display_name": "Python 3 (ipykernel)",
   "language": "python",
   "name": "python3"
  },
  "language_info": {
   "codemirror_mode": {
    "name": "ipython",
    "version": 3
   },
   "file_extension": ".py",
   "mimetype": "text/x-python",
   "name": "python",
   "nbconvert_exporter": "python",
   "pygments_lexer": "ipython3",
   "version": "3.8.18"
  }
 },
 "nbformat": 4,
 "nbformat_minor": 4
}
