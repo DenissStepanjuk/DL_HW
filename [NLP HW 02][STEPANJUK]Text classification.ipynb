{
 "cells": [
  {
   "cell_type": "markdown",
   "metadata": {
    "id": "d0ADTojbpfLt"
   },
   "source": [
    "# Домашнее задание. Нейросетевая классификация текстов\n",
    "\n",
    "В этом домашнем задании вам предстоит самостоятельно решить задачу классификации текстов на основе семинарского кода. Мы будем использовать датасет [ag_news](https://paperswithcode.com/dataset/ag-news). Это датасет для классификации новостей на 4 темы: \"World\", \"Sports\", \"Business\", \"Sci/Tech\".\n",
    "\n",
    "Установим модуль datasets, чтобы нам проще было работать с данными."
   ]
  },
  {
   "cell_type": "code",
   "execution_count": null,
   "metadata": {
    "colab": {
     "base_uri": "https://localhost:8080/"
    },
    "id": "p2QW_jCR0_kh",
    "outputId": "3fc85cb6-65a4-4bd8-f565-820c6b7504b4"
   },
   "outputs": [],
   "source": [
    "#!pip install datasets"
   ]
  },
  {
   "cell_type": "markdown",
   "metadata": {
    "id": "rh9ZXSeCpng9"
   },
   "source": [
    "Импорт необходимых библиотек"
   ]
  },
  {
   "cell_type": "code",
   "execution_count": 1,
   "metadata": {
    "id": "XOJi16bLpd_O"
   },
   "outputs": [],
   "source": [
    "import torch\n",
    "import torch.nn as nn\n",
    "from torch.utils.data import Dataset, DataLoader\n",
    "import datasets\n",
    "\n",
    "import numpy as np\n",
    "import matplotlib.pyplot as plt\n",
    "\n",
    "from tqdm.auto import tqdm\n",
    "from datasets import load_dataset\n",
    "from nltk.tokenize import word_tokenize\n",
    "from sklearn.model_selection import train_test_split\n",
    "import nltk\n",
    "\n",
    "from collections import Counter\n",
    "from typing import List\n",
    "import string\n",
    "\n",
    "import seaborn\n",
    "seaborn.set(palette='summer')"
   ]
  },
  {
   "cell_type": "code",
   "execution_count": 2,
   "metadata": {
    "colab": {
     "base_uri": "https://localhost:8080/"
    },
    "id": "91JuM0SQvXud",
    "outputId": "1a67bb6e-1edd-4ded-f018-ed9aa431c7db"
   },
   "outputs": [
    {
     "name": "stderr",
     "output_type": "stream",
     "text": [
      "[nltk_data] Downloading package punkt to\n",
      "[nltk_data]     C:\\Users\\STEPANJUK\\AppData\\Roaming\\nltk_data...\n",
      "[nltk_data]   Package punkt is already up-to-date!\n"
     ]
    },
    {
     "data": {
      "text/plain": [
       "True"
      ]
     },
     "execution_count": 2,
     "metadata": {},
     "output_type": "execute_result"
    }
   ],
   "source": [
    "# Чтобы в дальнейшем пользоваться токенизатором.\n",
    "nltk.download('punkt')"
   ]
  },
  {
   "cell_type": "code",
   "execution_count": 3,
   "metadata": {
    "colab": {
     "base_uri": "https://localhost:8080/",
     "height": 35
    },
    "id": "adJC8ShFq9HM",
    "outputId": "c85c95cb-f61e-4d37-ca8a-029c57d67e6f"
   },
   "outputs": [
    {
     "data": {
      "text/plain": [
       "'cuda'"
      ]
     },
     "execution_count": 3,
     "metadata": {},
     "output_type": "execute_result"
    }
   ],
   "source": [
    "device = 'cuda' if torch.cuda.is_available() else 'cpu'\n",
    "device"
   ]
  },
  {
   "cell_type": "markdown",
   "metadata": {
    "id": "pwsfS1ENq5ig"
   },
   "source": [
    "## Подготовка данных\n",
    "Для вашего удобства, мы привели код обработки датасета в ноутбуке. Ваша задача --- обучить модель, которая получит максимальное возможное качество на тестовой части."
   ]
  },
  {
   "cell_type": "code",
   "execution_count": 4,
   "metadata": {
    "colab": {
     "base_uri": "https://localhost:8080/",
     "height": 244,
     "referenced_widgets": [
      "1eb740874a8b4df68e18f0dbf8e7acdc",
      "fc9cdace4f17455082a2a8374913d322",
      "3ebe7107b9c643a4a990b0c5966299e8",
      "f1bde9957cab40ba97cd7faa65889b00",
      "aefc7fff46e6439fae50d2ac508d78e3",
      "33ce5077e4714f239f12562e1a7a7ef2",
      "f255118df0ea49fa8feb56d043cf87b6",
      "4acffbd4a4604620bcd4b4f8c9c6af9b",
      "8cde1d20ba3e45a08490e769ddd51bb4",
      "513f35a7ebb74d3ebbaefa013b725d14",
      "81311bdb923b4eca97431b56195acd58",
      "09ec9cea96b341d0a25451b192102f39",
      "c9ce26882ff34d61b1817915058152f1",
      "ece019411eba48ca93173a9b15cf8cbb",
      "19722e928d404adb990c5cec48524bba",
      "a93760269c044501aa63f3af2524210e",
      "6a76b678cb8e49d99b307e505c5baf43",
      "991528abe6eb42e29b4303bd72ecbb9c",
      "5b39c3103bf74237a2e03e6fdb7da027",
      "0847a33379184a368d5d1b82222b74cc",
      "122ed5c8b5a74305ba54ff99af7e9d54",
      "c0894fc6901f475382628d4868062558",
      "d76f8b4fbb004812b2bdc3f614cdc307",
      "e684e9dab3dc4a04b4fac5cab926f8fe",
      "a3a2891c78654d639a25ff7522357b26",
      "7caa28a01d5541e98ca6d2bd0c3f0a4c",
      "f5a54984249a47dd8ac113ce96ddbb71",
      "58df47e13b1e48a8863e48d6a12a98b5",
      "a6b4481c94ad4af181ff0934ee7fca92",
      "ca007860138646589925567fa12ee1f9",
      "903b7cdb57de41459650c226b5629d05",
      "196e3535fb3b4ede9c86fe2c79009322",
      "e2cbb1d5b4e1497e804bf00332a14743",
      "a2422c15e5ba42bf87eb6fdcd0604ec1",
      "96f4ff5cfc7b40e995a6c8ecd3546f6b",
      "bc6ee58abaa643cd9643064537784d64",
      "df0ff75a6c5a474295564794954addc4",
      "540219b4cc9b4ace9c70feb8a8146480",
      "b3ba7361fe3b46e3a208bf6416131f28",
      "feac1851ed644eeb98fb9ac9aadd7f41",
      "ccf9677bca0141dba7ba27dde42276e1",
      "0401a08736004c4cafe05feae921849f",
      "dc1d3746c5cf4817b8e80bf92ad02d71",
      "33521ca994f14e55aa040cfc2f5d1105",
      "4ceb025f703948e4971486323e58c3e4",
      "8136ea38174b46fe99d4549e396adbaf",
      "596c2a7e529b45a7973496e02b50ee17",
      "04c14b466921444299752b1bf6cac9fb",
      "99b28ecd95564dbc99ef588f42ae1dd2",
      "5494c2f8716a4da0a846bfad0e25b425",
      "f5d44bab5deb4be18b828d9c78feb5da",
      "dcab6933e7e6483fb37ef3ea4f2f96cb",
      "3018b5e2177b4eb7ba0f562b7db28fe4",
      "3bdb6917a86249c6a094d5d8e1433365",
      "a1f665b2995b4d62a2881de651810d44",
      "38c3fbf1198e4f7cbfc990cb362be0ba",
      "9fbc7d78c453476c8a6ace8a267aa6f3",
      "88bf756ae2ef454da07e153e26d6b272",
      "0872109d55664634958251b1c8a3879e",
      "e43cb91bee254131af50f2af50be3a4e",
      "cb8cdb1fcd394e79be9fcfb5708fee31",
      "55b7456ea0be447a8b87f75226163726",
      "6c7372f597dc48b2bd71771c13fbe1ca",
      "e7a723bfbede426a9c9184ed02ff2574",
      "1644c4f507954f0ba03aeb75b80b93ba",
      "bc1cab86f2d6492cb79c21c25206955e",
      "11d52f8a43cf44f08db4d15e0609adfd",
      "dc7219cdf164455e9172bc134d89d35a",
      "58ed943442364505881079688d1fde0d",
      "24e73abed20f4880a8d235907e0df027",
      "056cc6bc26f14d1aa27208e4be38bb73",
      "9e2a2ae4fcb54b5ca9f2d714b10061a6",
      "c4c47a154f2d40deaddc48a393ca4526",
      "a1605863309c42169162d60f6c6475b8",
      "5340dd684eed471ba18cb36d477c9f4d",
      "95572bae4c6f4d85b85202d04b4271a3",
      "a3fb5f712cdf4d3da74af03d24622ada",
      "640d1239e46f4a4d9224259f19408dee",
      "d635465d15d84b4ea2604e46de5fc957",
      "39e541c8faca418782958233ef684677",
      "0c75bfe839864746be85eae85414c224",
      "9e7c10778b7d4d6e89355acfa3a90fa0",
      "50565855965a4fc08310e2b7d8d65fd0",
      "4b8e4f5ccb3346fdb8a8e56baf8a7f49",
      "3d64d3a55ba64a5da8776712d649fc4e",
      "93b7be412ced4982a8d7901c40e8c64d",
      "31e4423718424bc2bbca5ac1a9051b08",
      "2b12a038d1864df79f83d85db191cfbb"
     ]
    },
    "id": "qHLNWOfJqSfc",
    "outputId": "14e2b6e7-c1e6-48f9-f97a-bff172f80d3e"
   },
   "outputs": [],
   "source": [
    "\"\"\" Загрузим датасет 'ag_news':\n",
    "\n",
    "ag_news — это популярный датасет для задачи классификации новостей. Он содержит новостные статьи, \n",
    "каждая из которых относится к одной из четырёх категорий:\n",
    "    0 — World (Мировые новости)\n",
    "    1 — Sports (Спорт)\n",
    "    2 — Business (Бизнес)\n",
    "    3 — Science/Technology (Наука и технологии)\n",
    "\"\"\"\n",
    "dataset = datasets.load_dataset('ag_news')"
   ]
  },
  {
   "cell_type": "code",
   "execution_count": 5,
   "metadata": {},
   "outputs": [
    {
     "name": "stdout",
     "output_type": "stream",
     "text": [
      "Text:\n",
      "Wall St. Bears Claw Back Into the Black (Reuters) Reuters - Short-sellers, Wall Street's dwindling\\band of ultra-cynics, are seeing green again.\n",
      "Label:\n",
      "2\n"
     ]
    }
   ],
   "source": [
    "print('Text:')\n",
    "print(dataset['train'][0]['text'])\n",
    "print('Label:')\n",
    "print(dataset['train'][0]['label'])"
   ]
  },
  {
   "cell_type": "markdown",
   "metadata": {
    "id": "gYG67ZJj4hZS"
   },
   "source": [
    "Как и в семинаре, выполним следующие шаги:\n",
    "* Составим словарь\n",
    "* Создадим класс WordDataset\n",
    "* Выделим обучающую и тестовую часть, создадим DataLoader-ы."
   ]
  },
  {
   "cell_type": "code",
   "execution_count": 6,
   "metadata": {
    "colab": {
     "base_uri": "https://localhost:8080/",
     "height": 66,
     "referenced_widgets": [
      "45b415cc22e64cbc9376f7bf8601f09b",
      "eee83e0a1bd14d00af3159061f96a553",
      "bd82244ccbd842539464a9168a897f1c",
      "94b4879a5a644dbeaa3ec1e5af2b1744",
      "fb542b520c1a42f4b621f95a4e90d644",
      "87447d7825574c6f8ab503b1b534d506",
      "56d638bddd534750b06ea6fe6701cb15",
      "7358823ad0d1474cae97638aebeb835f",
      "f53391ef64574c76bd18add79c0fa4bf",
      "6280438c65704c3a9603a2402d18c39a",
      "fe99814191c14edea16dc733737441a5"
     ]
    },
    "id": "nEvCN0Y1w1yH",
    "outputId": "7aaf0b16-1e5a-4b5a-f750-d2a0e93adf04"
   },
   "outputs": [
    {
     "data": {
      "application/vnd.jupyter.widget-view+json": {
       "model_id": "0b3216cd8cb04aa29bfba75e6cc065b7",
       "version_major": 2,
       "version_minor": 0
      },
      "text/plain": [
       "  0%|          | 0/120000 [00:00<?, ?it/s]"
      ]
     },
     "metadata": {},
     "output_type": "display_data"
    },
    {
     "name": "stdout",
     "output_type": "stream",
     "text": [
      "Размер словаря: 11842\n"
     ]
    }
   ],
   "source": [
    "# Считаем частоту вхождения слов чтобы составить словарь.\n",
    "words = Counter()\n",
    "\n",
    "# Каждый отзыв в датасете\n",
    "for example in tqdm(dataset['train']['text']):\n",
    "    # Приводим к нижнему регистру и убираем пунктуацию\n",
    "    prccessed_text = example.lower().translate(\n",
    "        str.maketrans('', '', string.punctuation))\n",
    "\n",
    "    # Считаем частоту вхождений для каждого слова во все статьи'ag_news'\n",
    "    for word in word_tokenize(prccessed_text):\n",
    "        words[word] += 1\n",
    "\n",
    "# Составим словарь vocab.\n",
    "# Добавим служебные слова:\n",
    "    #'<unk>'- неизвестные слова, \n",
    "    #'<bos>' - начало последовательности, \n",
    "    #'<eos>' - конец последовательности, \n",
    "    #'<pad>' - для обьеденения последовательностей. \n",
    "vocab = set(['<unk>', '<bos>', '<eos>', '<pad>'])\n",
    "# Пороговая частота встречаемости слова в тренировочных данных для добавления в словарь.\n",
    "counter_threshold = 25\n",
    "\n",
    "for char, cnt in words.items():\n",
    "    if cnt > counter_threshold:\n",
    "        vocab.add(char)\n",
    "\n",
    "print(f'Размер словаря: {len(vocab)}')\n",
    "\n",
    "# Два словаря ( слово в индекс ) и (индекс в слово)\n",
    "word2ind = {char: i for i, char in enumerate(vocab)}\n",
    "ind2word = {i: char for char, i in word2ind.items()}"
   ]
  },
  {
   "cell_type": "code",
   "execution_count": 7,
   "metadata": {
    "id": "FVzXL17PzC7K"
   },
   "outputs": [],
   "source": [
    "# Dataset хранит в себе примеры для передачи в Dataloader.\n",
    "class WordDataset:\n",
    "    def __init__(self, sentences):\n",
    "        self.data = sentences\n",
    "        #'<unk>'- неизвестные слова \n",
    "        self.unk_id = word2ind['<unk>']\n",
    "        #'<bos>' - начало последовательности\n",
    "        self.bos_id = word2ind['<bos>']\n",
    "        #'<eos>' - конец последовательности\n",
    "        self.eos_id = word2ind['<eos>']\n",
    "        #'<pad>' - для обьеденения последовательностей\n",
    "        self.pad_id = word2ind['<pad>']\n",
    "\n",
    "    # по индексу получаем пример из датасета.\n",
    "    def __getitem__(self, idx: int) -> List[int]:\n",
    "        # Приводим к нижнему регистру и убираем пунктуацию.\n",
    "        processed_text = self.data[idx]['text'].lower().translate(\n",
    "            str.maketrans('', '', string.punctuation))\n",
    "        # Добавляем ID токена '<bos>' - начало последовательности\n",
    "        tokenized_sentence = [self.bos_id]\n",
    "        tokenized_sentence += [\n",
    "            # word_tokenize(processed_text) - разбиваем текст на отдельные слова (токены).\n",
    "            # for word in word_tokenize(processed_text) - проходим через каждое слово (токен) в тексте\n",
    "            # word2ind.get(word, self.unk_id) - получить индекс слова в словаре\n",
    "            # Если в отзыве нет слова из словаря возвращаем \"self.unk_id\", если есть, то ID слова.\n",
    "            word2ind.get(word, self.unk_id) for word in word_tokenize(processed_text)\n",
    "            ]\n",
    "        # Добавляем ID токена '<eos>' - конец последовательности\n",
    "        tokenized_sentence += [self.eos_id]\n",
    "\n",
    "        train_sample = {\n",
    "            \"text\": tokenized_sentence,\n",
    "            \"label\": self.data[idx]['label']\n",
    "        }\n",
    "\n",
    "        return train_sample\n",
    "\n",
    "    def __len__(self) -> int:\n",
    "        return len(self.data)\n",
    "\n",
    "\n",
    "# Собираем последовательности(текста) разных длин в один бач.\n",
    "# Функция принимает на вход батч из датадлоадера. \n",
    "def collate_fn_with_padding(\n",
    "    input_batch: List[List[int]], pad_id=word2ind['<pad>'], max_len=256) -> torch.Tensor:\n",
    "    # Длинны всех текстов в баче.\n",
    "    seq_lens = [len(x['text']) for x in input_batch]\n",
    "    # Ограничение максимальной длинны последовательности(что меньше \"max_len=256\" или \"max(seq_lens)\"?).\n",
    "    max_seq_len = min(max(seq_lens), max_len)\n",
    "\n",
    "    # Формирируем новый батч последовательности.\n",
    "    new_batch = []\n",
    "    # Проходи через каждую новость в батче.\n",
    "    for sequence in input_batch:\n",
    "        # Ограничиваем длинну последовательности.\n",
    "        sequence['text'] = sequence['text'][:max_seq_len]\n",
    "        # Можно добавить pad_id ('<pad>' - для обьеденения последовательностей и заполнения пустоты). \n",
    "        for _ in range(max_seq_len - len(sequence['text'])):\n",
    "            sequence['text'].append(pad_id)\n",
    "        # Добавляем к новому батчу ограниченную по длинне последовательность с pad_id по краям.\n",
    "        new_batch.append(sequence['text'])\n",
    "\n",
    "    # Конвертируем последовательность в тензор и загружаем на девайс.\n",
    "    sequences = torch.LongTensor(new_batch).to(device)\n",
    "    # labels каждому отзыву соответствует метка: 0 — World (Мировые новости), 1 — Sports (Спорт),\n",
    "    # 2 — Business (Бизнес), 3 — Science/Technology (Наука и технологии)\n",
    "    labels = torch.LongTensor([x['label'] for x in input_batch]).to(device)\n",
    "\n",
    "    new_batch = {\n",
    "        'input_ids': sequences,\n",
    "        'label': labels\n",
    "    }\n",
    "\n",
    "    return new_batch"
   ]
  },
  {
   "cell_type": "code",
   "execution_count": 8,
   "metadata": {
    "id": "6xmeK9Ys1BIG"
   },
   "outputs": [],
   "source": [
    "train_dataset = WordDataset(dataset['train'])\n",
    "\n",
    "np.random.seed(42)\n",
    "idx = np.random.choice(np.arange(len(dataset['test'])), 5000)\n",
    "eval_dataset = WordDataset(dataset['test'].select(idx))\n",
    "\n",
    "batch_size = 32\n",
    "train_dataloader = DataLoader(\n",
    "    train_dataset, shuffle=True, collate_fn=collate_fn_with_padding, batch_size=batch_size)\n",
    "\n",
    "eval_dataloader = DataLoader(\n",
    "    eval_dataset, shuffle=False, collate_fn=collate_fn_with_padding, batch_size=batch_size)"
   ]
  },
  {
   "cell_type": "markdown",
   "metadata": {
    "id": "w7LHfh3u5Bie"
   },
   "source": [
    "## Постановка задачи\n",
    "Ваша задача -- получить максимальное возможное accuracy на `eval_dataloader`. Ниже приведена функция, которую вам необходимо запустить для обученной модели, чтобы вычислить качество её работы."
   ]
  },
  {
   "cell_type": "code",
   "execution_count": 9,
   "metadata": {
    "id": "JDZw4Sehn4NE"
   },
   "outputs": [],
   "source": [
    "def evaluate(model, eval_dataloader) -> float:\n",
    "    \"\"\"\n",
    "    Calculate accuracy on validation dataloader.\n",
    "    \"\"\"\n",
    "\n",
    "    predictions = []\n",
    "    target = []\n",
    "    with torch.no_grad():\n",
    "        for batch in eval_dataloader:\n",
    "            logits = model(batch['input_ids'])\n",
    "            predictions.append(logits.argmax(dim=1))\n",
    "            target.append(batch['label'])\n",
    "\n",
    "    predictions = torch.cat(predictions)\n",
    "    target = torch.cat(target)\n",
    "    accuracy = (predictions == target).float().mean().item()\n",
    "\n",
    "    return accuracy"
   ]
  },
  {
   "cell_type": "markdown",
   "metadata": {},
   "source": [
    "## Функция для обучения модели"
   ]
  },
  {
   "cell_type": "code",
   "execution_count": 10,
   "metadata": {},
   "outputs": [],
   "source": [
    "def train(\n",
    "        model: nn.Module,         # Модель\n",
    "        criterion: nn.Module,     # Функция потерь\n",
    "        optimizer: torch.optim.Optimizer, # оптимизатор \n",
    "        num_epochs: int,          # Кол-во эпох\n",
    "        train_loader: DataLoader, # Тренировочные данные\n",
    "        val_loader: DataLoader    # Валидационные данные\n",
    "        #aggregation_type: 'mean' # Тип агрегации скрытых слоёв\n",
    "        ) -> [List[float], List[float]]:\n",
    "    \n",
    "    eval_steps = len(train_loader) // 2\n",
    "    losses = []\n",
    "    acc = []\n",
    "\n",
    "    for epoch in range(num_epochs):\n",
    "        epoch_losses = []\n",
    "        model.train()\n",
    "        \n",
    "        for i, batch in enumerate(tqdm(train_loader, desc=f'Training epoch {epoch}:')):\n",
    "            optimizer.zero_grad()\n",
    "            logits = model(batch['input_ids'])\n",
    "            loss = criterion(logits, batch['label'])\n",
    "            loss.backward()\n",
    "            optimizer.step()\n",
    "\n",
    "            epoch_losses.append(loss.item())\n",
    "            if i % eval_steps == 0:\n",
    "                model.eval()\n",
    "                acc.append(evaluate(model, eval_dataloader))\n",
    "                model.train()\n",
    "\n",
    "        losses.append(sum(epoch_losses) / len(epoch_losses))\n",
    "\n",
    "\n",
    "    return losses, acc"
   ]
  },
  {
   "cell_type": "markdown",
   "metadata": {},
   "source": [
    "## Функции для построения графиков"
   ]
  },
  {
   "cell_type": "code",
   "execution_count": 11,
   "metadata": {},
   "outputs": [],
   "source": [
    "def losses_plot(losses):\n",
    "    plt.plot(np.arange(len(losses)), losses, color='red', label='losses')\n",
    "    \n",
    "    plt.title('Losses')\n",
    "    plt.xlabel(\"epoch\")\n",
    "    plt.legend()\n",
    "    plt.show()"
   ]
  },
  {
   "cell_type": "code",
   "execution_count": 12,
   "metadata": {},
   "outputs": [],
   "source": [
    "def accuracies_plot(accur):\n",
    "    plt.plot(np.arange(len(accur[1:])), accur[1:], color='blue', label='acc')\n",
    "    print(f\"Лучшая accuracy для подхода: {(max(accur) * 100):.2f}\")\n",
    "    \n",
    "    plt.title('Accuracy')\n",
    "    plt.xlabel(\"epoch\")\n",
    "    plt.legend()\n",
    "    plt.show()"
   ]
  },
  {
   "cell_type": "markdown",
   "metadata": {
    "id": "SMAexY7Y45E4"
   },
   "source": [
    "## Ход работы\n",
    "Оценка за домашнее задание складывается из четырех частей:\n",
    "### Запуск базовой модели с семинара на новом датасете (1 балл)\n",
    "На семинаре мы создали модель, которая дает на нашей задаче довольно высокое качество. Ваша цель --- обучить ее и вычислить `score`, который затем можно будет использовать в качестве бейзлайна.\n",
    "\n",
    "В модели появится одно важное изменение: количество классов теперь равно не 2, а 4. Обратите на это внимание и найдите, что в коде создания модели нужно модифицировать, чтобы учесть это различие."
   ]
  },
  {
   "cell_type": "code",
   "execution_count": 13,
   "metadata": {},
   "outputs": [],
   "source": [
    "class Basic_RNN_Language_Model(nn.Module):\n",
    "    \n",
    "    def __init__(self,\n",
    "                 hidden_dim: int,          # скрытая размерность\n",
    "                 vocab_size: int,          # Размер словаря\n",
    "                 num_classes: int = 4,     # Кол-во классов для предсказания\n",
    "                 num_rnn_layers: int = 1,  # Кол-во рекуррентных слоев модели. \n",
    "                 p_dropout: float=0.1,     # Вероятность обнуления для каждого элемента входного тензора слоя nn.Dropout\n",
    "                 aggregation_type: str = 'max'): # Тип агрегации скрытых слоёв\n",
    "        \n",
    "        super().__init__()\n",
    "        # Матрица эмбедингов, хранит в каждой строке вектор слова.\n",
    "        self.embedding = nn.Embedding(vocab_size, hidden_dim)\n",
    "        \n",
    "        # Рекуррентный блок.\n",
    "        # На входе вектор слова (входная скрытая размерность), на выходе скрытый слой (выходная скрытая размерность), \n",
    "        # а так же кол-во рекуррентных слоев модели. \n",
    "        self.rnn = nn.RNN(hidden_dim, hidden_dim, num_layers=num_rnn_layers, batch_first=True)\n",
    "        \n",
    "        # Линейный слой().\n",
    "        self.linear = nn.Linear(hidden_dim, hidden_dim)\n",
    "        \n",
    "        # Предсказывающий линейный слой.\n",
    "        self.projection = nn.Linear(hidden_dim, num_classes)\n",
    "        \n",
    "        # Функция активации.\n",
    "        self.non_lin = nn.Tanh()\n",
    "        \n",
    "        # Dropout - методом регуляризации и предотвращения коадаптации нейронов \n",
    "        self.dropout = nn.Dropout(p = p_dropout)\n",
    "        \n",
    "        # Тип агрегации скрытых слоёв\n",
    "        self.aggregation_type = aggregation_type\n",
    "\n",
    "    # Получаем входной батч.\n",
    "    def forward(self, input_batch) -> torch.Tensor:\n",
    "        # Эмбединги для входного батча\n",
    "        embeddings = self.embedding(input_batch)  # [batch_size, seq_len, hidden_dim]\n",
    "        \n",
    "        output, _ = self.rnn(embeddings)  # [batch_size, seq_len, hidden_dim]\n",
    "\n",
    "        if self.aggregation_type == 'max':\n",
    "            output = output.max(dim=1)[0] #[batch_size, hidden_dim]\n",
    "        elif self.aggregation_type == 'mean':\n",
    "            output = output.mean(dim=1) #[batch_size, hidden_dim]\n",
    "        else:\n",
    "            raise ValueError(\"Invalid aggregation_type\")\n",
    "\n",
    "        output = self.dropout(self.linear(self.non_lin(output)))  # [batch_size, hidden_dim]\n",
    "        \n",
    "        prediction = self.projection(self.non_lin(output))  # [batch_size, num_classes]\n",
    "\n",
    "        return prediction"
   ]
  },
  {
   "cell_type": "code",
   "execution_count": null,
   "metadata": {},
   "outputs": [],
   "source": []
  },
  {
   "cell_type": "code",
   "execution_count": 14,
   "metadata": {},
   "outputs": [],
   "source": [
    "model_Basic_RNN = Basic_RNN_Language_Model(\n",
    "                                        hidden_dim=512, \n",
    "                                        vocab_size=len(vocab), \n",
    "                                        num_classes = 4,\n",
    "                                        aggregation_type='max').to(device)\n",
    "\n",
    "criterion_Basic_RNN = nn.CrossEntropyLoss(ignore_index=word2ind['<pad>'])\n",
    "optimizer_Basic_RNN = torch.optim.Adam(model_Basic_RNN.parameters())"
   ]
  },
  {
   "cell_type": "code",
   "execution_count": null,
   "metadata": {},
   "outputs": [],
   "source": []
  },
  {
   "cell_type": "code",
   "execution_count": 15,
   "metadata": {},
   "outputs": [
    {
     "data": {
      "application/vnd.jupyter.widget-view+json": {
       "model_id": "1779146812ef443a8038bd5206ffb1c0",
       "version_major": 2,
       "version_minor": 0
      },
      "text/plain": [
       "Training epoch 0::   0%|          | 0/3750 [00:00<?, ?it/s]"
      ]
     },
     "metadata": {},
     "output_type": "display_data"
    },
    {
     "data": {
      "application/vnd.jupyter.widget-view+json": {
       "model_id": "6ce1bbff1024469abf845fbfa8bef977",
       "version_major": 2,
       "version_minor": 0
      },
      "text/plain": [
       "Training epoch 1::   0%|          | 0/3750 [00:00<?, ?it/s]"
      ]
     },
     "metadata": {},
     "output_type": "display_data"
    },
    {
     "data": {
      "application/vnd.jupyter.widget-view+json": {
       "model_id": "4e0c49a868074e518341b89f6f14193a",
       "version_major": 2,
       "version_minor": 0
      },
      "text/plain": [
       "Training epoch 2::   0%|          | 0/3750 [00:00<?, ?it/s]"
      ]
     },
     "metadata": {},
     "output_type": "display_data"
    },
    {
     "data": {
      "application/vnd.jupyter.widget-view+json": {
       "model_id": "d6ee292c71b64e7abb1e702feed505e2",
       "version_major": 2,
       "version_minor": 0
      },
      "text/plain": [
       "Training epoch 3::   0%|          | 0/3750 [00:00<?, ?it/s]"
      ]
     },
     "metadata": {},
     "output_type": "display_data"
    },
    {
     "data": {
      "application/vnd.jupyter.widget-view+json": {
       "model_id": "9e382c225cf94c7bb3646378465e17a6",
       "version_major": 2,
       "version_minor": 0
      },
      "text/plain": [
       "Training epoch 4::   0%|          | 0/3750 [00:00<?, ?it/s]"
      ]
     },
     "metadata": {},
     "output_type": "display_data"
    },
    {
     "data": {
      "application/vnd.jupyter.widget-view+json": {
       "model_id": "41880b7beaf04479b3ad1cf28e49d602",
       "version_major": 2,
       "version_minor": 0
      },
      "text/plain": [
       "Training epoch 5::   0%|          | 0/3750 [00:00<?, ?it/s]"
      ]
     },
     "metadata": {},
     "output_type": "display_data"
    },
    {
     "data": {
      "application/vnd.jupyter.widget-view+json": {
       "model_id": "20e0cbf8d681447c8e88ebfdae231d15",
       "version_major": 2,
       "version_minor": 0
      },
      "text/plain": [
       "Training epoch 6::   0%|          | 0/3750 [00:00<?, ?it/s]"
      ]
     },
     "metadata": {},
     "output_type": "display_data"
    },
    {
     "data": {
      "application/vnd.jupyter.widget-view+json": {
       "model_id": "e4f09bab6c2e4dc8b0d9862819f0ab92",
       "version_major": 2,
       "version_minor": 0
      },
      "text/plain": [
       "Training epoch 7::   0%|          | 0/3750 [00:00<?, ?it/s]"
      ]
     },
     "metadata": {},
     "output_type": "display_data"
    },
    {
     "data": {
      "application/vnd.jupyter.widget-view+json": {
       "model_id": "6976a50fb43f456ab1314716c9830e57",
       "version_major": 2,
       "version_minor": 0
      },
      "text/plain": [
       "Training epoch 8::   0%|          | 0/3750 [00:00<?, ?it/s]"
      ]
     },
     "metadata": {},
     "output_type": "display_data"
    },
    {
     "data": {
      "application/vnd.jupyter.widget-view+json": {
       "model_id": "25a75e07d02f49b3b4df7fceb2b135f0",
       "version_major": 2,
       "version_minor": 0
      },
      "text/plain": [
       "Training epoch 9::   0%|          | 0/3750 [00:00<?, ?it/s]"
      ]
     },
     "metadata": {},
     "output_type": "display_data"
    }
   ],
   "source": [
    "epochs = 10\n",
    "\n",
    "losses_Basic_RNN, accuracies_Basic_RNN = train( model = model_Basic_RNN,         # Модель\n",
    "                                                criterion = criterion_Basic_RNN,     # Функция потерь\n",
    "                                                optimizer = optimizer_Basic_RNN, # оптимизатор \n",
    "                                                num_epochs = epochs,          # Кол-во эпох\n",
    "                                                train_loader = train_dataloader, # Тренировочные данные\n",
    "                                                val_loader = eval_dataloader    # Валидационные данные\n",
    "                                                )"
   ]
  },
  {
   "cell_type": "code",
   "execution_count": null,
   "metadata": {},
   "outputs": [],
   "source": []
  },
  {
   "cell_type": "code",
   "execution_count": null,
   "metadata": {},
   "outputs": [],
   "source": []
  },
  {
   "cell_type": "code",
   "execution_count": 16,
   "metadata": {},
   "outputs": [
    {
     "data": {
      "image/png": "[encoded data removed]",
      "text/plain": [
       "<Figure size 640x480 with 1 Axes>"
      ]
     },
     "metadata": {},
     "output_type": "display_data"
    }
   ],
   "source": [
    "losses_plot(losses_Basic_RNN)"
   ]
  },
  {
   "cell_type": "code",
   "execution_count": null,
   "metadata": {},
   "outputs": [],
   "source": []
  },
  {
   "cell_type": "code",
   "execution_count": 17,
   "metadata": {},
   "outputs": [
    {
     "name": "stdout",
     "output_type": "stream",
     "text": [
      "Лучшая accuracy для подхода: 90.54\n"
     ]
    },
    {
     "data": {
      "image/png": "[encoded data removed]",
      "text/plain": [
       "<Figure size 640x480 with 1 Axes>"
      ]
     },
     "metadata": {},
     "output_type": "display_data"
    }
   ],
   "source": [
    "accuracies_plot(accuracies_Basic_RNN)"
   ]
  },
  {
   "cell_type": "code",
   "execution_count": null,
   "metadata": {},
   "outputs": [],
   "source": []
  },
  {
   "cell_type": "markdown",
   "metadata": {
    "id": "BqKYrcyxBoxx"
   },
   "source": [
    "### Проведение экспериментов по улучшению модели (2 балла за каждый эксперимент)\n",
    "Чтобы улучшить качество базовой модели, можно попробовать различные идеи экспериментов. Каждый выполненный эксперимент будет оцениваться в 2 балла. Для получения полного балла за этот пункт вам необходимо выполнить по крайней мере 2 эксперимента. Не расстраивайтесь, если какой-то эксперимент не дал вам прироста к качеству: он все равно зачтется, если выполнен корректно.\n",
    "\n",
    "Вот несколько идей экспериментов:\n",
    "* **Модель RNN**. Попробуйте другие нейросетевые модели --- LSTM и GRU. Мы советуем обратить внимание на [GRU](https://pytorch.org/docs/stable/generated/torch.nn.GRU.html), так как интерфейс этого класса ничем не отличается от обычной Vanilla RNN, которую мы использовали на семинаре."
   ]
  },
  {
   "cell_type": "markdown",
   "metadata": {},
   "source": [
    "#### GRU:"
   ]
  },
  {
   "cell_type": "code",
   "execution_count": 18,
   "metadata": {},
   "outputs": [],
   "source": [
    "class GRU_Language_Model(Basic_RNN_Language_Model):\n",
    "    \n",
    "    def __init__(self,\n",
    "                 hidden_dim: int,          # скрытая размерность\n",
    "                 vocab_size: int,          # Размер словаря\n",
    "                 num_classes: int = 4,     # Кол-во классов для предсказания\n",
    "                 num_rnn_layers: int = 1,  # Кол-во рекуррентных слоев модели. \n",
    "                 p_dropout: float=0.1,     # Вероятность обнуления для каждого элемента входного тензора слоя nn.Dropout\n",
    "                 aggregation_type: str = 'max'): # Тип агрегации скрытых слоёв\n",
    "        \n",
    "        super().__init__(\n",
    "            hidden_dim,\n",
    "            vocab_size,\n",
    "            num_classes,\n",
    "            num_rnn_layers,\n",
    "            p_dropout,\n",
    "            aggregation_type\n",
    "        )\n",
    "\n",
    "        # Рекуррентный блок.\n",
    "        # На входе вектор слова (входная скрытая размерность), на выходе скрытый слой (выходная скрытая размерность), \n",
    "        # а так же кол-во рекуррентных слоев модели. \n",
    "        self.rnn = nn.GRU(hidden_dim, hidden_dim, num_layers=num_rnn_layers, batch_first=True)\n",
    "\n"
   ]
  },
  {
   "cell_type": "code",
   "execution_count": null,
   "metadata": {},
   "outputs": [],
   "source": []
  },
  {
   "cell_type": "code",
   "execution_count": 19,
   "metadata": {},
   "outputs": [],
   "source": [
    "model_GRU = GRU_Language_Model(\n",
    "                                hidden_dim=512, \n",
    "                                vocab_size=len(vocab), \n",
    "                                num_classes = 4,\n",
    "                                aggregation_type='max').to(device)\n",
    "\n",
    "criterion_GRU = nn.CrossEntropyLoss(ignore_index=word2ind['<pad>'])\n",
    "optimizer_GRU = torch.optim.Adam(model_GRU.parameters())"
   ]
  },
  {
   "cell_type": "code",
   "execution_count": null,
   "metadata": {},
   "outputs": [],
   "source": []
  },
  {
   "cell_type": "code",
   "execution_count": 20,
   "metadata": {},
   "outputs": [
    {
     "data": {
      "application/vnd.jupyter.widget-view+json": {
       "model_id": "1552748ff7e54e4cb24974f790baea51",
       "version_major": 2,
       "version_minor": 0
      },
      "text/plain": [
       "Training epoch 0::   0%|          | 0/3750 [00:00<?, ?it/s]"
      ]
     },
     "metadata": {},
     "output_type": "display_data"
    },
    {
     "data": {
      "application/vnd.jupyter.widget-view+json": {
       "model_id": "a3a98ef16e0144c592926eb484023fe9",
       "version_major": 2,
       "version_minor": 0
      },
      "text/plain": [
       "Training epoch 1::   0%|          | 0/3750 [00:00<?, ?it/s]"
      ]
     },
     "metadata": {},
     "output_type": "display_data"
    },
    {
     "data": {
      "application/vnd.jupyter.widget-view+json": {
       "model_id": "9f5477049f6540a69ecf1e9a5f6a0ab8",
       "version_major": 2,
       "version_minor": 0
      },
      "text/plain": [
       "Training epoch 2::   0%|          | 0/3750 [00:00<?, ?it/s]"
      ]
     },
     "metadata": {},
     "output_type": "display_data"
    },
    {
     "data": {
      "application/vnd.jupyter.widget-view+json": {
       "model_id": "38c5740e5e534089806e2d4b8a5bb6f3",
       "version_major": 2,
       "version_minor": 0
      },
      "text/plain": [
       "Training epoch 3::   0%|          | 0/3750 [00:00<?, ?it/s]"
      ]
     },
     "metadata": {},
     "output_type": "display_data"
    },
    {
     "data": {
      "application/vnd.jupyter.widget-view+json": {
       "model_id": "c33358ecb09740e7875cc71a6bd34f5b",
       "version_major": 2,
       "version_minor": 0
      },
      "text/plain": [
       "Training epoch 4::   0%|          | 0/3750 [00:00<?, ?it/s]"
      ]
     },
     "metadata": {},
     "output_type": "display_data"
    },
    {
     "data": {
      "application/vnd.jupyter.widget-view+json": {
       "model_id": "ec51503c23204bb6945e94abeaf45637",
       "version_major": 2,
       "version_minor": 0
      },
      "text/plain": [
       "Training epoch 5::   0%|          | 0/3750 [00:00<?, ?it/s]"
      ]
     },
     "metadata": {},
     "output_type": "display_data"
    },
    {
     "data": {
      "application/vnd.jupyter.widget-view+json": {
       "model_id": "e0da8b3970cc4a9fa2c2ce1dcba674af",
       "version_major": 2,
       "version_minor": 0
      },
      "text/plain": [
       "Training epoch 6::   0%|          | 0/3750 [00:00<?, ?it/s]"
      ]
     },
     "metadata": {},
     "output_type": "display_data"
    },
    {
     "data": {
      "application/vnd.jupyter.widget-view+json": {
       "model_id": "5ec72cfd278f4c4dadba678293a39584",
       "version_major": 2,
       "version_minor": 0
      },
      "text/plain": [
       "Training epoch 7::   0%|          | 0/3750 [00:00<?, ?it/s]"
      ]
     },
     "metadata": {},
     "output_type": "display_data"
    },
    {
     "data": {
      "application/vnd.jupyter.widget-view+json": {
       "model_id": "3eb5493fcf514f4a8e49403696d7fafb",
       "version_major": 2,
       "version_minor": 0
      },
      "text/plain": [
       "Training epoch 8::   0%|          | 0/3750 [00:00<?, ?it/s]"
      ]
     },
     "metadata": {},
     "output_type": "display_data"
    },
    {
     "data": {
      "application/vnd.jupyter.widget-view+json": {
       "model_id": "1edaf53c014d471ca4dcbc0dd29d9235",
       "version_major": 2,
       "version_minor": 0
      },
      "text/plain": [
       "Training epoch 9::   0%|          | 0/3750 [00:00<?, ?it/s]"
      ]
     },
     "metadata": {},
     "output_type": "display_data"
    }
   ],
   "source": [
    "epochs = 10\n",
    "\n",
    "losses_GRU, accuracies_GRU = train( model = model_GRU,         # Модель\n",
    "                                    criterion = criterion_GRU,     # Функция потерь\n",
    "                                    optimizer = optimizer_GRU, # оптимизатор \n",
    "                                    num_epochs = epochs,          # Кол-во эпох\n",
    "                                    train_loader = train_dataloader, # Тренировочные данные\n",
    "                                    val_loader = eval_dataloader    # Валидационные данные\n",
    "                                    )"
   ]
  },
  {
   "cell_type": "code",
   "execution_count": null,
   "metadata": {},
   "outputs": [],
   "source": []
  },
  {
   "cell_type": "code",
   "execution_count": 21,
   "metadata": {},
   "outputs": [
    {
     "data": {
      "image/png": "[encoded data removed]",
      "text/plain": [
       "<Figure size 640x480 with 1 Axes>"
      ]
     },
     "metadata": {},
     "output_type": "display_data"
    }
   ],
   "source": [
    "losses_plot(losses_GRU)"
   ]
  },
  {
   "cell_type": "code",
   "execution_count": null,
   "metadata": {},
   "outputs": [],
   "source": []
  },
  {
   "cell_type": "code",
   "execution_count": 22,
   "metadata": {},
   "outputs": [
    {
     "name": "stdout",
     "output_type": "stream",
     "text": [
      "Лучшая accuracy для подхода: 91.64\n"
     ]
    },
    {
     "data": {
      "image/png": "[encoded data removed]",
      "text/plain": [
       "<Figure size 640x480 with 1 Axes>"
      ]
     },
     "metadata": {},
     "output_type": "display_data"
    }
   ],
   "source": [
    "accuracies_plot(accuracies_GRU)"
   ]
  },
  {
   "cell_type": "markdown",
   "metadata": {},
   "source": [
    "#### LSTM:"
   ]
  },
  {
   "cell_type": "code",
   "execution_count": 23,
   "metadata": {},
   "outputs": [],
   "source": [
    "class LSTM_Language_Model(Basic_RNN_Language_Model):\n",
    "    \n",
    "    def __init__(self,\n",
    "                 hidden_dim: int,          # скрытая размерность\n",
    "                 vocab_size: int,          # Размер словаря\n",
    "                 num_classes: int = 4,     # Кол-во классов для предсказания\n",
    "                 num_rnn_layers: int = 1,  # Кол-во рекуррентных слоев модели. \n",
    "                 p_dropout: float=0.1,     # Вероятность обнуления для каждого элемента входного тензора слоя nn.Dropout\n",
    "                 aggregation_type: str = 'max'): # Тип агрегации скрытых слоёв\n",
    "        \n",
    "        super().__init__(\n",
    "            hidden_dim,\n",
    "            vocab_size,\n",
    "            num_classes,\n",
    "            num_rnn_layers,\n",
    "            p_dropout,\n",
    "            aggregation_type\n",
    "        )\n",
    "\n",
    "        # Рекуррентный блок.\n",
    "        # На входе вектор слова (входная скрытая размерность), на выходе скрытый слой (выходная скрытая размерность), \n",
    "        # а так же кол-во рекуррентных слоев модели. \n",
    "        self.rnn = nn.LSTM(hidden_dim, hidden_dim, num_layers=num_rnn_layers, batch_first=True)"
   ]
  },
  {
   "cell_type": "code",
   "execution_count": null,
   "metadata": {},
   "outputs": [],
   "source": []
  },
  {
   "cell_type": "code",
   "execution_count": 24,
   "metadata": {},
   "outputs": [],
   "source": [
    "model_LSTM = LSTM_Language_Model(\n",
    "                                hidden_dim=512, \n",
    "                                vocab_size=len(vocab), \n",
    "                                num_classes = 4,\n",
    "                                aggregation_type='max').to(device)\n",
    "\n",
    "criterion_LSTM = nn.CrossEntropyLoss(ignore_index=word2ind['<pad>'])\n",
    "optimizer_LSTM = torch.optim.Adam(model_LSTM.parameters())"
   ]
  },
  {
   "cell_type": "code",
   "execution_count": null,
   "metadata": {},
   "outputs": [],
   "source": []
  },
  {
   "cell_type": "code",
   "execution_count": 25,
   "metadata": {},
   "outputs": [
    {
     "data": {
      "application/vnd.jupyter.widget-view+json": {
       "model_id": "bd8b087b90344d95a400e683edfec11e",
       "version_major": 2,
       "version_minor": 0
      },
      "text/plain": [
       "Training epoch 0::   0%|          | 0/3750 [00:00<?, ?it/s]"
      ]
     },
     "metadata": {},
     "output_type": "display_data"
    },
    {
     "data": {
      "application/vnd.jupyter.widget-view+json": {
       "model_id": "295b173e0cd440a3b0ba234558439350",
       "version_major": 2,
       "version_minor": 0
      },
      "text/plain": [
       "Training epoch 1::   0%|          | 0/3750 [00:00<?, ?it/s]"
      ]
     },
     "metadata": {},
     "output_type": "display_data"
    },
    {
     "data": {
      "application/vnd.jupyter.widget-view+json": {
       "model_id": "7622c8db23694c1db7912213d702c159",
       "version_major": 2,
       "version_minor": 0
      },
      "text/plain": [
       "Training epoch 2::   0%|          | 0/3750 [00:00<?, ?it/s]"
      ]
     },
     "metadata": {},
     "output_type": "display_data"
    },
    {
     "data": {
      "application/vnd.jupyter.widget-view+json": {
       "model_id": "7795c532a3754651b5fda6b0ef8e311c",
       "version_major": 2,
       "version_minor": 0
      },
      "text/plain": [
       "Training epoch 3::   0%|          | 0/3750 [00:00<?, ?it/s]"
      ]
     },
     "metadata": {},
     "output_type": "display_data"
    },
    {
     "data": {
      "application/vnd.jupyter.widget-view+json": {
       "model_id": "3540a739fcab435393a82e4ed461e228",
       "version_major": 2,
       "version_minor": 0
      },
      "text/plain": [
       "Training epoch 4::   0%|          | 0/3750 [00:00<?, ?it/s]"
      ]
     },
     "metadata": {},
     "output_type": "display_data"
    },
    {
     "data": {
      "application/vnd.jupyter.widget-view+json": {
       "model_id": "fabf13009f7d4d69990fbb92dee6bcfe",
       "version_major": 2,
       "version_minor": 0
      },
      "text/plain": [
       "Training epoch 5::   0%|          | 0/3750 [00:00<?, ?it/s]"
      ]
     },
     "metadata": {},
     "output_type": "display_data"
    },
    {
     "data": {
      "application/vnd.jupyter.widget-view+json": {
       "model_id": "2ad031fe1d4140948f224f1f9b2a8f2a",
       "version_major": 2,
       "version_minor": 0
      },
      "text/plain": [
       "Training epoch 6::   0%|          | 0/3750 [00:00<?, ?it/s]"
      ]
     },
     "metadata": {},
     "output_type": "display_data"
    },
    {
     "data": {
      "application/vnd.jupyter.widget-view+json": {
       "model_id": "827e4d3b29cc41d983b5cec816f62cd1",
       "version_major": 2,
       "version_minor": 0
      },
      "text/plain": [
       "Training epoch 7::   0%|          | 0/3750 [00:00<?, ?it/s]"
      ]
     },
     "metadata": {},
     "output_type": "display_data"
    },
    {
     "data": {
      "application/vnd.jupyter.widget-view+json": {
       "model_id": "2c2f49f8e7e94233ba00c6fde3ae93d7",
       "version_major": 2,
       "version_minor": 0
      },
      "text/plain": [
       "Training epoch 8::   0%|          | 0/3750 [00:00<?, ?it/s]"
      ]
     },
     "metadata": {},
     "output_type": "display_data"
    },
    {
     "data": {
      "application/vnd.jupyter.widget-view+json": {
       "model_id": "deee995a2849406c9b2dd714b68c69f3",
       "version_major": 2,
       "version_minor": 0
      },
      "text/plain": [
       "Training epoch 9::   0%|          | 0/3750 [00:00<?, ?it/s]"
      ]
     },
     "metadata": {},
     "output_type": "display_data"
    }
   ],
   "source": [
    "epochs = 10\n",
    "\n",
    "losses_LSTM, accuracies_LSTM = train( model = model_LSTM,         # Модель\n",
    "                                    criterion = criterion_LSTM,     # Функция потерь\n",
    "                                    optimizer = optimizer_LSTM, # оптимизатор \n",
    "                                    num_epochs = epochs,          # Кол-во эпох\n",
    "                                    train_loader = train_dataloader, # Тренировочные данные\n",
    "                                    val_loader = eval_dataloader    # Валидационные данные\n",
    "                                    )"
   ]
  },
  {
   "cell_type": "code",
   "execution_count": null,
   "metadata": {},
   "outputs": [],
   "source": []
  },
  {
   "cell_type": "code",
   "execution_count": 26,
   "metadata": {},
   "outputs": [
    {
     "data": {
      "image/png": "[encoded data removed]",
      "text/plain": [
       "<Figure size 640x480 with 1 Axes>"
      ]
     },
     "metadata": {},
     "output_type": "display_data"
    }
   ],
   "source": [
    "losses_plot(losses_LSTM)"
   ]
  },
  {
   "cell_type": "code",
   "execution_count": null,
   "metadata": {},
   "outputs": [],
   "source": []
  },
  {
   "cell_type": "code",
   "execution_count": 27,
   "metadata": {},
   "outputs": [
    {
     "name": "stdout",
     "output_type": "stream",
     "text": [
      "Лучшая accuracy для подхода: 91.46\n"
     ]
    },
    {
     "data": {
      "image/png": "[encoded data removed]",
      "text/plain": [
       "<Figure size 640x480 with 1 Axes>"
      ]
     },
     "metadata": {},
     "output_type": "display_data"
    }
   ],
   "source": [
    "accuracies_plot(accuracies_LSTM)"
   ]
  },
  {
   "cell_type": "markdown",
   "metadata": {},
   "source": [
    "* **Увеличение количества рекуррентных слоев модели**. Это можно сделать с помощью параметра `num_layers` в классе `nn.RNN`. В такой модели выходы первой RNN передаются в качестве входов второй RNN и так далее.\n"
   ]
  },
  {
   "cell_type": "code",
   "execution_count": 28,
   "metadata": {},
   "outputs": [],
   "source": [
    "model_GRU_multi_layer = GRU_Language_Model(\n",
    "                                hidden_dim=512, \n",
    "                                vocab_size=len(vocab), \n",
    "                                num_classes = 4,\n",
    "                                num_rnn_layers = 5, \n",
    "                                aggregation_type='max').to(device)\n",
    "\n",
    "criterion_GRU_multi_layer = nn.CrossEntropyLoss(ignore_index=word2ind['<pad>'])\n",
    "optimizer_GRU_multi_layer = torch.optim.Adam(model_GRU_multi_layer.parameters())"
   ]
  },
  {
   "cell_type": "code",
   "execution_count": null,
   "metadata": {},
   "outputs": [],
   "source": []
  },
  {
   "cell_type": "code",
   "execution_count": 29,
   "metadata": {},
   "outputs": [
    {
     "data": {
      "application/vnd.jupyter.widget-view+json": {
       "model_id": "073e7a5ac38d4a63b00498ef1ede522a",
       "version_major": 2,
       "version_minor": 0
      },
      "text/plain": [
       "Training epoch 0::   0%|          | 0/3750 [00:00<?, ?it/s]"
      ]
     },
     "metadata": {},
     "output_type": "display_data"
    },
    {
     "data": {
      "application/vnd.jupyter.widget-view+json": {
       "model_id": "f2d5a8f20808423db79322c596067ae5",
       "version_major": 2,
       "version_minor": 0
      },
      "text/plain": [
       "Training epoch 1::   0%|          | 0/3750 [00:00<?, ?it/s]"
      ]
     },
     "metadata": {},
     "output_type": "display_data"
    },
    {
     "data": {
      "application/vnd.jupyter.widget-view+json": {
       "model_id": "c16079711ba34a97a7b0fc5c6b69c488",
       "version_major": 2,
       "version_minor": 0
      },
      "text/plain": [
       "Training epoch 2::   0%|          | 0/3750 [00:00<?, ?it/s]"
      ]
     },
     "metadata": {},
     "output_type": "display_data"
    },
    {
     "data": {
      "application/vnd.jupyter.widget-view+json": {
       "model_id": "5bcc16c9c9d0412a80288d3a1438432d",
       "version_major": 2,
       "version_minor": 0
      },
      "text/plain": [
       "Training epoch 3::   0%|          | 0/3750 [00:00<?, ?it/s]"
      ]
     },
     "metadata": {},
     "output_type": "display_data"
    },
    {
     "data": {
      "application/vnd.jupyter.widget-view+json": {
       "model_id": "13ac4379d53440e8befbdd64f13fddc8",
       "version_major": 2,
       "version_minor": 0
      },
      "text/plain": [
       "Training epoch 4::   0%|          | 0/3750 [00:00<?, ?it/s]"
      ]
     },
     "metadata": {},
     "output_type": "display_data"
    },
    {
     "data": {
      "application/vnd.jupyter.widget-view+json": {
       "model_id": "eb5b8385df1a4dd1bb5b67b992579a17",
       "version_major": 2,
       "version_minor": 0
      },
      "text/plain": [
       "Training epoch 5::   0%|          | 0/3750 [00:00<?, ?it/s]"
      ]
     },
     "metadata": {},
     "output_type": "display_data"
    },
    {
     "data": {
      "application/vnd.jupyter.widget-view+json": {
       "model_id": "f25029e3cc494a5798f6cf5cca54551a",
       "version_major": 2,
       "version_minor": 0
      },
      "text/plain": [
       "Training epoch 6::   0%|          | 0/3750 [00:00<?, ?it/s]"
      ]
     },
     "metadata": {},
     "output_type": "display_data"
    },
    {
     "data": {
      "application/vnd.jupyter.widget-view+json": {
       "model_id": "c64adbc749e94491901cd381f6c44404",
       "version_major": 2,
       "version_minor": 0
      },
      "text/plain": [
       "Training epoch 7::   0%|          | 0/3750 [00:00<?, ?it/s]"
      ]
     },
     "metadata": {},
     "output_type": "display_data"
    },
    {
     "data": {
      "application/vnd.jupyter.widget-view+json": {
       "model_id": "3bfc2d76692a4ad59e7391769344d1b9",
       "version_major": 2,
       "version_minor": 0
      },
      "text/plain": [
       "Training epoch 8::   0%|          | 0/3750 [00:00<?, ?it/s]"
      ]
     },
     "metadata": {},
     "output_type": "display_data"
    },
    {
     "data": {
      "application/vnd.jupyter.widget-view+json": {
       "model_id": "8491184f920147138b0b76481c0c66f5",
       "version_major": 2,
       "version_minor": 0
      },
      "text/plain": [
       "Training epoch 9::   0%|          | 0/3750 [00:00<?, ?it/s]"
      ]
     },
     "metadata": {},
     "output_type": "display_data"
    }
   ],
   "source": [
    "epochs = 10\n",
    "\n",
    "losses_GRU_multi_layer, accuracies_GRU_multi_layer = train( model = model_GRU_multi_layer,         # Модель\n",
    "                                                            criterion = criterion_GRU_multi_layer,     # Функция потерь\n",
    "                                                            optimizer = optimizer_GRU_multi_layer, # оптимизатор \n",
    "                                                            num_epochs = epochs,          # Кол-во эпох\n",
    "                                                            train_loader = train_dataloader, # Тренировочные данные\n",
    "                                                            val_loader = eval_dataloader    # Валидационные данные\n",
    "                                                            )"
   ]
  },
  {
   "cell_type": "code",
   "execution_count": null,
   "metadata": {},
   "outputs": [],
   "source": []
  },
  {
   "cell_type": "code",
   "execution_count": 30,
   "metadata": {},
   "outputs": [
    {
     "data": {
      "image/png": "[encoded data removed]",
      "text/plain": [
       "<Figure size 640x480 with 1 Axes>"
      ]
     },
     "metadata": {},
     "output_type": "display_data"
    }
   ],
   "source": [
    "losses_plot(losses_GRU_multi_layer)"
   ]
  },
  {
   "cell_type": "code",
   "execution_count": null,
   "metadata": {},
   "outputs": [],
   "source": []
  },
  {
   "cell_type": "code",
   "execution_count": 31,
   "metadata": {},
   "outputs": [
    {
     "name": "stdout",
     "output_type": "stream",
     "text": [
      "Лучшая accuracy для подхода: 90.88\n"
     ]
    },
    {
     "data": {
      "image/png": "[encoded data removed]",
      "text/plain": [
       "<Figure size 640x480 with 1 Axes>"
      ]
     },
     "metadata": {},
     "output_type": "display_data"
    }
   ],
   "source": [
    "accuracies_plot(accuracies_GRU_multi_layer)"
   ]
  },
  {
   "cell_type": "markdown",
   "metadata": {},
   "source": [
    "* **Изменение архитектуры после применения RNN**. В базовой модели используется агрегация со всех эмбеддингов. Возможно, вы захотите конкатенировать результат агрегации и эмбеддинг с последнего токена."
   ]
  },
  {
   "cell_type": "code",
   "execution_count": 32,
   "metadata": {},
   "outputs": [],
   "source": [
    "class RNN_Language_Model_concat_agg_and_last(Basic_RNN_Language_Model):\n",
    "    \n",
    "    def __init__(self,\n",
    "                 hidden_dim: int,          # скрытая размерность\n",
    "                 vocab_size: int,          # Размер словаря\n",
    "                 num_classes: int = 4,     # Кол-во классов для предсказания\n",
    "                 num_rnn_layers: int = 1,  # Кол-во рекуррентных слоев модели. \n",
    "                 p_dropout: float=0.1,     # Вероятность обнуления для каждого элемента входного тензора слоя nn.Dropout\n",
    "                 aggregation_type: str = 'max'): # Тип агрегации скрытых слоёв\n",
    "        \n",
    "        super().__init__(\n",
    "            hidden_dim,\n",
    "            vocab_size,\n",
    "            num_classes,\n",
    "            num_rnn_layers,\n",
    "            p_dropout,\n",
    "            aggregation_type\n",
    "        )\n",
    "\n",
    "    \n",
    "        # Линейный слой().\n",
    "        self.linear = nn.Linear(2 * hidden_dim, hidden_dim)\n",
    "    \n",
    "    # Получаем входной батч.\n",
    "    def forward(self, input_batch) -> torch.Tensor:\n",
    "        # Эмбединги для входного батча\n",
    "        embeddings = self.embedding(input_batch)  # [batch_size, seq_len, hidden_dim]\n",
    "        \n",
    "        output, _ = self.rnn(embeddings)  # [batch_size, seq_len, hidden_dim]\n",
    "\n",
    "        last_output = output [:, -1]  # [batch_size, hidden_dim]\n",
    "\n",
    "        if self.aggregation_type == 'max':\n",
    "            output = output.max(dim=1)[0] #[batch_size, hidden_dim]\n",
    "            \n",
    "            output = torch.cat((output, last_output), dim=1)  # [batch_size, 2 * hidden_dim]\n",
    "            \n",
    "        elif self.aggregation_type == 'mean':\n",
    "            output = output.mean(dim=1) #[batch_size, hidden_dim]\n",
    "            \n",
    "            output = torch.cat((output, last_output), dim=1)  # [batch_size, 2 * hidden_dim]\n",
    "            \n",
    "        else:\n",
    "            raise ValueError(\"Invalid aggregation_type\")\n",
    "\n",
    "        output = self.dropout(self.linear(self.non_lin(output)))  # [batch_size, hidden_dim]\n",
    "        \n",
    "        prediction = self.projection(self.non_lin(output))  # [batch_size, num_classes]\n",
    "\n",
    "        return prediction"
   ]
  },
  {
   "cell_type": "code",
   "execution_count": null,
   "metadata": {},
   "outputs": [],
   "source": []
  },
  {
   "cell_type": "code",
   "execution_count": 33,
   "metadata": {},
   "outputs": [],
   "source": [
    "model_RNN_concat_agg_and_last = RNN_Language_Model_concat_agg_and_last(\n",
    "                                                                    hidden_dim=512, \n",
    "                                                                    vocab_size=len(vocab), \n",
    "                                                                    num_classes = 4,\n",
    "                                                                    aggregation_type='max').to(device)\n",
    "\n",
    "criterion_RNN_concat_agg_and_last = nn.CrossEntropyLoss(ignore_index=word2ind['<pad>'])\n",
    "optimizer_RNN_concat_agg_and_last = torch.optim.Adam(model_RNN_concat_agg_and_last.parameters())"
   ]
  },
  {
   "cell_type": "code",
   "execution_count": null,
   "metadata": {},
   "outputs": [],
   "source": []
  },
  {
   "cell_type": "code",
   "execution_count": 34,
   "metadata": {},
   "outputs": [
    {
     "data": {
      "application/vnd.jupyter.widget-view+json": {
       "model_id": "600a237b1cc741e8b456701cdb4c5a79",
       "version_major": 2,
       "version_minor": 0
      },
      "text/plain": [
       "Training epoch 0::   0%|          | 0/3750 [00:00<?, ?it/s]"
      ]
     },
     "metadata": {},
     "output_type": "display_data"
    },
    {
     "data": {
      "application/vnd.jupyter.widget-view+json": {
       "model_id": "9318629c740d46749ca031e52b4b4c0a",
       "version_major": 2,
       "version_minor": 0
      },
      "text/plain": [
       "Training epoch 1::   0%|          | 0/3750 [00:00<?, ?it/s]"
      ]
     },
     "metadata": {},
     "output_type": "display_data"
    },
    {
     "data": {
      "application/vnd.jupyter.widget-view+json": {
       "model_id": "590fe20ab05d486b9095b1f09357773a",
       "version_major": 2,
       "version_minor": 0
      },
      "text/plain": [
       "Training epoch 2::   0%|          | 0/3750 [00:00<?, ?it/s]"
      ]
     },
     "metadata": {},
     "output_type": "display_data"
    },
    {
     "data": {
      "application/vnd.jupyter.widget-view+json": {
       "model_id": "16929a40aa154ddea4a5efe9f655b28c",
       "version_major": 2,
       "version_minor": 0
      },
      "text/plain": [
       "Training epoch 3::   0%|          | 0/3750 [00:00<?, ?it/s]"
      ]
     },
     "metadata": {},
     "output_type": "display_data"
    },
    {
     "data": {
      "application/vnd.jupyter.widget-view+json": {
       "model_id": "ba2a004a8dcd4728a40711114bb327f8",
       "version_major": 2,
       "version_minor": 0
      },
      "text/plain": [
       "Training epoch 4::   0%|          | 0/3750 [00:00<?, ?it/s]"
      ]
     },
     "metadata": {},
     "output_type": "display_data"
    },
    {
     "data": {
      "application/vnd.jupyter.widget-view+json": {
       "model_id": "e509e3a5659f4ffaa2de3b7edc7bcd66",
       "version_major": 2,
       "version_minor": 0
      },
      "text/plain": [
       "Training epoch 5::   0%|          | 0/3750 [00:00<?, ?it/s]"
      ]
     },
     "metadata": {},
     "output_type": "display_data"
    },
    {
     "data": {
      "application/vnd.jupyter.widget-view+json": {
       "model_id": "267752ed6e1e4187bfd3fb9f601c358a",
       "version_major": 2,
       "version_minor": 0
      },
      "text/plain": [
       "Training epoch 6::   0%|          | 0/3750 [00:00<?, ?it/s]"
      ]
     },
     "metadata": {},
     "output_type": "display_data"
    },
    {
     "data": {
      "application/vnd.jupyter.widget-view+json": {
       "model_id": "9657f86fbc5c4e7b8cd43bb58854425b",
       "version_major": 2,
       "version_minor": 0
      },
      "text/plain": [
       "Training epoch 7::   0%|          | 0/3750 [00:00<?, ?it/s]"
      ]
     },
     "metadata": {},
     "output_type": "display_data"
    },
    {
     "data": {
      "application/vnd.jupyter.widget-view+json": {
       "model_id": "ad81615ece2947a2b40a61678f1056db",
       "version_major": 2,
       "version_minor": 0
      },
      "text/plain": [
       "Training epoch 8::   0%|          | 0/3750 [00:00<?, ?it/s]"
      ]
     },
     "metadata": {},
     "output_type": "display_data"
    },
    {
     "data": {
      "application/vnd.jupyter.widget-view+json": {
       "model_id": "4ea049ede07340c39a0245ead56851d3",
       "version_major": 2,
       "version_minor": 0
      },
      "text/plain": [
       "Training epoch 9::   0%|          | 0/3750 [00:00<?, ?it/s]"
      ]
     },
     "metadata": {},
     "output_type": "display_data"
    }
   ],
   "source": [
    "epochs = 10\n",
    "\n",
    "losses_RNN_concat_agg_and_last, accuracies_RNN_concat_agg_and_last = train( model = model_RNN_concat_agg_and_last,    # Модель\n",
    "                                                criterion = criterion_RNN_concat_agg_and_last,     # Функция потерь\n",
    "                                                optimizer = optimizer_RNN_concat_agg_and_last, # оптимизатор \n",
    "                                                num_epochs = epochs,          # Кол-во эпох\n",
    "                                                train_loader = train_dataloader, # Тренировочные данные\n",
    "                                                val_loader = eval_dataloader    # Валидационные данные\n",
    "                                                )"
   ]
  },
  {
   "cell_type": "code",
   "execution_count": null,
   "metadata": {},
   "outputs": [],
   "source": []
  },
  {
   "cell_type": "code",
   "execution_count": 35,
   "metadata": {},
   "outputs": [
    {
     "data": {
      "image/png": "[encoded data removed]",
      "text/plain": [
       "<Figure size 640x480 with 1 Axes>"
      ]
     },
     "metadata": {},
     "output_type": "display_data"
    }
   ],
   "source": [
    "losses_plot(losses_RNN_concat_agg_and_last)"
   ]
  },
  {
   "cell_type": "code",
   "execution_count": null,
   "metadata": {},
   "outputs": [],
   "source": []
  },
  {
   "cell_type": "code",
   "execution_count": 36,
   "metadata": {},
   "outputs": [
    {
     "name": "stdout",
     "output_type": "stream",
     "text": [
      "Лучшая accuracy для подхода: 90.78\n"
     ]
    },
    {
     "data": {
      "image/png": "[encoded data removed]",
      "text/plain": [
       "<Figure size 640x480 with 1 Axes>"
      ]
     },
     "metadata": {},
     "output_type": "display_data"
    }
   ],
   "source": [
    "accuracies_plot(accuracies_RNN_concat_agg_and_last)"
   ]
  },
  {
   "cell_type": "code",
   "execution_count": null,
   "metadata": {},
   "outputs": [],
   "source": []
  },
  {
   "cell_type": "markdown",
   "metadata": {},
   "source": [
    "* **Подбор гиперпараметров и обучение до сходимости**. Возможно, для получения более высокого качества просто необходимо увеличить количество эпох обучения нейросети, а также попробовать различные гиперпараметры: размер словаря, `dropout_rate`, `hidden_dim`.\n",
    "\n",
    "Обратите внимание, что главное правило проведения экспериментов --- необходимо совершать одно архитектурное изменение в одном эксперименте. Если вы совершите несколько изменений, то будет неясно, какое именно из изменений дало прирост к качеству.\n"
   ]
  },
  {
   "cell_type": "code",
   "execution_count": null,
   "metadata": {},
   "outputs": [],
   "source": []
  },
  {
   "cell_type": "markdown",
   "metadata": {},
   "source": [
    "### Получение высокого качества (3 балла)\n",
    "В конце вашей работы вы должны указать, какая из моделей дала лучший результат, и вывести качество, которое дает лучшая модель, с помощью функции `evaluate`. Ваша модель будет оцениваться по метрике `accuracy` следующим образом:\n",
    "* $accuracy < 0.9$ --- 0 баллов;\n",
    "* $0.9 \\leqslant accuracy < 0.91$ --- 1 балл;\n",
    "* $0.91 \\leqslant accuracy < 0.915$ --- 2 балла;\n",
    "* $0.915 \\leqslant accuracy$ --- 3 балла.\n",
    "\n"
   ]
  },
  {
   "cell_type": "code",
   "execution_count": 37,
   "metadata": {},
   "outputs": [],
   "source": [
    "class Bidirectional_Multi_Layer_GRU_Language_Model(Basic_RNN_Language_Model):\n",
    "    \n",
    "    def __init__(self,\n",
    "                 hidden_dim: int,          # скрытая размерность\n",
    "                 vocab_size: int,          # Размер словаря\n",
    "                 num_classes: int = 4,     # Кол-во классов для предсказания\n",
    "                 num_rnn_layers: int = 3,  # Кол-во рекуррентных слоев модели. \n",
    "                 p_dropout: float=0.1,     # Вероятность обнуления для каждого элемента входного тензора слоя nn.Dropout\n",
    "                 aggregation_type: str = 'max'): # Тип агрегации скрытых слоёв\n",
    "        \n",
    "        super().__init__(\n",
    "            hidden_dim,\n",
    "            vocab_size,\n",
    "            num_classes,\n",
    "            num_rnn_layers,\n",
    "            p_dropout,\n",
    "            aggregation_type\n",
    "        )\n",
    "\n",
    "        #self.hidden_dim = hidden_dim\n",
    "\n",
    "        # Линейный слой().\n",
    "        self.linear = nn.Linear(2 * hidden_dim, hidden_dim)\n",
    "\n",
    "        # Рекуррентный двунаправленный блок.\n",
    "        # На входе вектор слова (входная скрытая размерность), на выходе скрытый слой (выходная скрытая размерность), \n",
    "        # а так же кол-во рекуррентных слоев модели. \n",
    "        self.rnn = nn.GRU(hidden_dim, hidden_dim, num_layers=num_rnn_layers, batch_first=True, bidirectional=True)\n",
    "\n",
    "\n",
    "            # Получаем входной батч.\n",
    "    def forward(self, input_batch) -> torch.Tensor:\n",
    "        # Эмбединги для входного батча\n",
    "        embeddings = self.embedding(input_batch)  # [batch_size, seq_len, hidden_dim]\n",
    "        \n",
    "        output, _ = self.rnn(embeddings)  # [batch_size, seq_len, hidden_dim]\n",
    "\n",
    "        # output = (output[:, :, self.hidden_dim:]\n",
    "        #           + output[:, :, :self.hidden_dim]) / 2  # [batch_size, seq_len, hidden_dim]\n",
    "\n",
    "        if self.aggregation_type == 'max':\n",
    "            output = output.max(dim=1)[0] #[batch_size, hidden_dim]\n",
    "        elif self.aggregation_type == 'mean':\n",
    "            output = output.mean(dim=1) #[batch_size, hidden_dim]\n",
    "        else:\n",
    "            raise ValueError(\"Invalid aggregation_type\")\n",
    "\n",
    "        output = self.dropout(self.linear(self.non_lin(output)))  # [batch_size, hidden_dim]\n",
    "        \n",
    "        prediction = self.projection(self.non_lin(output))  # [batch_size, num_classes]\n",
    "\n",
    "        return prediction\n",
    "\n"
   ]
  },
  {
   "cell_type": "code",
   "execution_count": 38,
   "metadata": {},
   "outputs": [],
   "source": [
    "model_bidirectional_GRU_multi_layer = Bidirectional_Multi_Layer_GRU_Language_Model(\n",
    "                                                                                hidden_dim=512, \n",
    "                                                                                vocab_size=len(vocab), \n",
    "                                                                                num_classes = 4,\n",
    "                                                                                num_rnn_layers = 3, \n",
    "                                                                                aggregation_type='max').to(device)\n",
    "\n",
    "criterion_bidirectional_GRU_multi_layer = nn.CrossEntropyLoss(ignore_index=word2ind['<pad>'])\n",
    "optimizer_bidirectional_GRU_multi_layer = torch.optim.Adam(model_bidirectional_GRU_multi_layer.parameters())"
   ]
  },
  {
   "cell_type": "code",
   "execution_count": null,
   "metadata": {},
   "outputs": [],
   "source": []
  },
  {
   "cell_type": "code",
   "execution_count": 39,
   "metadata": {},
   "outputs": [
    {
     "data": {
      "application/vnd.jupyter.widget-view+json": {
       "model_id": "45d014583fe24168980d667cdadf0d56",
       "version_major": 2,
       "version_minor": 0
      },
      "text/plain": [
       "Training epoch 0::   0%|          | 0/3750 [00:00<?, ?it/s]"
      ]
     },
     "metadata": {},
     "output_type": "display_data"
    },
    {
     "data": {
      "application/vnd.jupyter.widget-view+json": {
       "model_id": "44a3113de792488194d44af0926d4911",
       "version_major": 2,
       "version_minor": 0
      },
      "text/plain": [
       "Training epoch 1::   0%|          | 0/3750 [00:00<?, ?it/s]"
      ]
     },
     "metadata": {},
     "output_type": "display_data"
    },
    {
     "data": {
      "application/vnd.jupyter.widget-view+json": {
       "model_id": "a141b24bcb6946499aca91d17a80b44b",
       "version_major": 2,
       "version_minor": 0
      },
      "text/plain": [
       "Training epoch 2::   0%|          | 0/3750 [00:00<?, ?it/s]"
      ]
     },
     "metadata": {},
     "output_type": "display_data"
    },
    {
     "data": {
      "application/vnd.jupyter.widget-view+json": {
       "model_id": "959da3301fe6414f83151f2c43c4fab2",
       "version_major": 2,
       "version_minor": 0
      },
      "text/plain": [
       "Training epoch 3::   0%|          | 0/3750 [00:00<?, ?it/s]"
      ]
     },
     "metadata": {},
     "output_type": "display_data"
    },
    {
     "data": {
      "application/vnd.jupyter.widget-view+json": {
       "model_id": "7fe5970cef384e97b1cf0ac980cca00c",
       "version_major": 2,
       "version_minor": 0
      },
      "text/plain": [
       "Training epoch 4::   0%|          | 0/3750 [00:00<?, ?it/s]"
      ]
     },
     "metadata": {},
     "output_type": "display_data"
    },
    {
     "data": {
      "application/vnd.jupyter.widget-view+json": {
       "model_id": "08da091bee2c4cfe937a5dc9172eaa5e",
       "version_major": 2,
       "version_minor": 0
      },
      "text/plain": [
       "Training epoch 5::   0%|          | 0/3750 [00:00<?, ?it/s]"
      ]
     },
     "metadata": {},
     "output_type": "display_data"
    },
    {
     "data": {
      "application/vnd.jupyter.widget-view+json": {
       "model_id": "60875a5a701f4499bbf3a5eedd937f42",
       "version_major": 2,
       "version_minor": 0
      },
      "text/plain": [
       "Training epoch 6::   0%|          | 0/3750 [00:00<?, ?it/s]"
      ]
     },
     "metadata": {},
     "output_type": "display_data"
    },
    {
     "data": {
      "application/vnd.jupyter.widget-view+json": {
       "model_id": "a180f4779a9a4658995c2c5e10962c3b",
       "version_major": 2,
       "version_minor": 0
      },
      "text/plain": [
       "Training epoch 7::   0%|          | 0/3750 [00:00<?, ?it/s]"
      ]
     },
     "metadata": {},
     "output_type": "display_data"
    },
    {
     "data": {
      "application/vnd.jupyter.widget-view+json": {
       "model_id": "2fc3f45149934aa99e5a03848acd86dc",
       "version_major": 2,
       "version_minor": 0
      },
      "text/plain": [
       "Training epoch 8::   0%|          | 0/3750 [00:00<?, ?it/s]"
      ]
     },
     "metadata": {},
     "output_type": "display_data"
    },
    {
     "data": {
      "application/vnd.jupyter.widget-view+json": {
       "model_id": "e8aa63432eec4a98b25af9b28696a0c2",
       "version_major": 2,
       "version_minor": 0
      },
      "text/plain": [
       "Training epoch 9::   0%|          | 0/3750 [00:00<?, ?it/s]"
      ]
     },
     "metadata": {},
     "output_type": "display_data"
    }
   ],
   "source": [
    "epochs = 10\n",
    "\n",
    "losses_bidirectional_GRU_multi_layer, accuracies_bidirectional_GRU_multi_layer = train( model = model_bidirectional_GRU_multi_layer,       # Модель\n",
    "                                                            criterion = criterion_bidirectional_GRU_multi_layer,     # Функция потерь\n",
    "                                                            optimizer = optimizer_bidirectional_GRU_multi_layer, # оптимизатор \n",
    "                                                            num_epochs = epochs,          # Кол-во эпох\n",
    "                                                            train_loader = train_dataloader, # Тренировочные данные\n",
    "                                                            val_loader = eval_dataloader    # Валидационные данные\n",
    "                                                            )"
   ]
  },
  {
   "cell_type": "code",
   "execution_count": null,
   "metadata": {},
   "outputs": [],
   "source": []
  },
  {
   "cell_type": "code",
   "execution_count": 40,
   "metadata": {},
   "outputs": [
    {
     "data": {
      "image/png": "[encoded data removed]",
      "text/plain": [
       "<Figure size 640x480 with 1 Axes>"
      ]
     },
     "metadata": {},
     "output_type": "display_data"
    }
   ],
   "source": [
    "losses_plot(losses_bidirectional_GRU_multi_layer)"
   ]
  },
  {
   "cell_type": "code",
   "execution_count": null,
   "metadata": {},
   "outputs": [],
   "source": []
  },
  {
   "cell_type": "code",
   "execution_count": 41,
   "metadata": {},
   "outputs": [
    {
     "name": "stdout",
     "output_type": "stream",
     "text": [
      "Лучшая accuracy для подхода: 90.84\n"
     ]
    },
    {
     "data": {
      "image/png": "[encoded data removed]",
      "text/plain": [
       "<Figure size 640x480 with 1 Axes>"
      ]
     },
     "metadata": {},
     "output_type": "display_data"
    }
   ],
   "source": [
    "accuracies_plot(accuracies_bidirectional_GRU_multi_layer)"
   ]
  },
  {
   "cell_type": "markdown",
   "metadata": {},
   "source": [
    "# Лучшая accuracy для подхода: 91.56"
   ]
  },
  {
   "cell_type": "code",
   "execution_count": null,
   "metadata": {},
   "outputs": [],
   "source": []
  },
  {
   "cell_type": "markdown",
   "metadata": {},
   "source": [
    "### Оформление отчета (2 балла)\n",
    "В конце работы подробно опишите все проведенные эксперименты.\n",
    "* Укажите, какие из экспериментов принесли улучшение, а какие --- нет.\n",
    "* Проанализируйте графики сходимости моделей в проведенных экспериментах. Являются ли колебания качества обученных моделей существенными в зависимости от эпохи обучения, или же сходимость стабильная?\n",
    "* Укажите, какая модель получилась оптимальной.\n",
    "\n",
    "Желаем удачи!"
   ]
  },
  {
   "cell_type": "markdown",
   "metadata": {},
   "source": [
    "## Общие условия для всех экспериментов следующие: \n",
    "##### тип агрегации скрытых слоёв для каждого эксперимента 'max'\n",
    "##### hidden_dim = 512\n",
    "##### dropout = 0.1\n",
    "##### количество эпох 10\n",
    "\n",
    "### Мной были проведены следующие эксперименты:\n",
    "\n",
    "- Классификация текста на базе nn.RNN() блока.\n",
    "      Лучшая accuracy для подхода: 90.52\n",
    "  \n",
    "- Классификация текста на базе nn.GRU() блока.\n",
    "        Лучшая accuracy для подхода: 91.26\n",
    "\n",
    "- Классификация текста на базе nn.LSTM() блока.\n",
    "        Лучшая accuracy для подхода: 91.18\n",
    "\n",
    "- Классификация текста на базе из 5 слоёв nn.GRU() блоков.\n",
    "        Лучшая accuracy для подхода: 91.20\n",
    "\n",
    "- Классификация текста на базе конкатенированого вектора последнего токена nn.RNN() блока с вектором агрегации всех токенов nn.RNN() блока.\n",
    "        Лучшая accuracy для подхода: 90.78\n",
    "\n",
    "- Классификация текста на базе двунаправленной 5 слойной nn.GRU().\n",
    "        Лучшая accuracy для подхода: 91.56\n",
    "\n",
    "\n",
    "### Вывод:\n",
    " \n",
    "- Стабильную сходимость, а так же высокую accuracy показала модель на базе из 5 слоёв nn.GRU() блоков. Её же я бы назвал оптимальной.\n",
    "\n",
    "- В остальных экспериментах мне не удалось добиться стабильной сходимости. Вероятно надо подобрать более оптимальные гиперпараметры (dropout_rate, hidden_dim, кол-во эпох, ...).\n",
    "\n",
    "- Лучшую accuracy = 91.56 показала двунаправленная 5 слойная nn.GRU()."
   ]
  },
  {
   "cell_type": "code",
   "execution_count": null,
   "metadata": {},
   "outputs": [],
   "source": []
  }
 ],
 "metadata": {
  "accelerator": "GPU",
  "colab": {
   "provenance": []
  },
  "gpuClass": "standard",
  "kernelspec": {
   "display_name": "Python 3 (ipykernel)",
   "language": "python",
   "name": "python3"
  },
  "language_info": {
   "codemirror_mode": {
    "name": "ipython",
    "version": 3
   },
   "file_extension": ".py",
   "mimetype": "text/x-python",
   "name": "python",
   "nbconvert_exporter": "python",
   "pygments_lexer": "ipython3",
   "version": "3.8.18"
  }
 },
 "nbformat": 4,
 "nbformat_minor": 4
}
